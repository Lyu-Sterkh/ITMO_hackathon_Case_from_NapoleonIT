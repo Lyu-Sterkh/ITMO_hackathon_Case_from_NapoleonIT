{
 "cells": [
  {
   "cell_type": "code",
   "execution_count": 26,
   "metadata": {
    "collapsed": true,
    "ExecuteTime": {
     "end_time": "2023-09-06T12:49:50.905092800Z",
     "start_time": "2023-09-06T12:49:50.889375200Z"
    }
   },
   "outputs": [],
   "source": [
    "import cv2\n",
    "import matplotlib.pyplot as plt\n",
    "import os\n",
    "import zipfile\n",
    "from PIL import Image\n",
    "import pytesseract\n",
    "import pandas as pd\n",
    "import re\n",
    "import numpy as np\n",
    "from scipy.ndimage import rotate\n",
    "import pytesseract\n",
    "from scipy.ndimage import rotate\n",
    "import csv"
   ]
  },
  {
   "cell_type": "code",
   "execution_count": 37,
   "outputs": [],
   "source": [
    "# Устанавливаем путь к исполняемому файлу Tesseract-OCR\n",
    "pytesseract.pytesseract.tesseract_cmd = r'C:\\Program Files\\Tesseract-OCR\\tesseract.exe'\n",
    "\n",
    "# Определяем функцию, которая определит лучший угол поворота изображения для улучшения результатов OCR\n",
    "def determine_best_rotation_angle(image, lang='rus+eng', rotation_range=(-10, 10), steps=1):\n",
    "    current_max_confidence = -np.inf # Инициализируем текущий максимум средней уверенности\n",
    "    best_rotation_angle = 0 # Инициализируем лучший угол поворота\n",
    "    # Перебираем углы поворота в заданном диапазоне\n",
    "    for rotation_angle in range(rotation_range[0], rotation_range[1] + steps, steps):\n",
    "         # Поворачиваем изображение на заданный угол без изменения размера\n",
    "        rotated_image = rotate(image, rotation_angle, reshape=False)\n",
    "        # Получаем данные OCR для повернутого изображения\n",
    "        configs_data = pytesseract.image_to_data(rotated_image, output_type=pytesseract.Output.DICT, lang=lang, config='--psm 6')\n",
    "        # Рассчитываем среднее значение уверенности OCR в распознавании символов\n",
    "        mean_confidence = np.mean(np.asarray(configs_data[\"conf\"], dtype=float))\n",
    "        # Если текущая средняя уверенность больше предыдущей, обновляем лучший угол поворота и текущую максимальную уверенность\n",
    "        if mean_confidence > current_max_confidence:\n",
    "            best_rotation_angle = rotation_angle\n",
    "            current_max_confidence = mean_confidence\n",
    "    # Возвращаем лучший угол поворота\n",
    "    return best_rotation_angle\n",
    "\n",
    "# Задаем путь к папке с изображениями\n",
    "folder_path = 'datasets/napoleon_it_retail/not_analogues'\n",
    "files = os.listdir(folder_path) # Получаем список файлов в папке\n",
    "\n",
    "# Создаем и открываем файл CSV для записи результатов\n",
    "with open('not_analogues.csv', mode='w', newline='', encoding='utf-8') as csvfile:\n",
    "    csv_writer = csv.writer(csvfile, delimiter=',', quotechar='\"', quoting=csv.QUOTE_MINIMAL)\n",
    "    csv_writer.writerow(['file_name', 'text']) # Записываем строку с заголовками столбцов\n",
    "\n",
    "# Перебираем файлы в папке и обрабатываем каждое изображение\n",
    "for file in files:\n",
    "    image_path = os.path.join(folder_path, file)  # Формируем путь к файлу изображения\n",
    "    image = cv2.imread(image_path)  # Читаем изображение\n",
    "\n",
    "    if image is None:  # Если изображение не удалось прочитать, записываем имя файла и пустую строку\n",
    "        print(f\"Unable to read image: {file}\")\n",
    "        csv_writer.writerow([file, \"\"])\n",
    "        continue\n",
    "\n",
    "    # Задаем размеры изображения для уменьшения и рассчитываем коэффициент масштабирования\n",
    "    target_width = 1600\n",
    "    target_height = 1600\n",
    "    scale_factor = min(target_width / image.shape[1], target_height / image.shape[0])\n",
    "    new_width = int(image.shape[1] * scale_factor)\n",
    "    new_height = int(image.shape[0] * scale_factor)\n",
    "\n",
    "    # Изменяем размер изображения с помощью интерполяции\n",
    "    resized_image = cv2.resize(image, (new_width, new_height), interpolation=cv2.INTER_LINEAR)\n",
    "\n",
    "    # Конвертируем цветное изображение в оттенки серого\n",
    "    gray_image = cv2.cvtColor(resized_image, cv2.COLOR_BGR2GRAY)\n",
    "\n",
    "    # Применяем размытие по Гауссу для уменьшения шума\n",
    "    blurred_image = cv2.GaussianBlur(gray_image, (5, 5), 0)\n",
    "\n",
    "    # Нормализуем уровень яркости изображения\n",
    "    normalized_image = cv2.normalize(blurred_image, None, alpha=0, beta=255, norm_type=cv2.NORM_MINMAX)\n",
    "\n",
    "    # Определяем лучший угол поворота\n",
    "    best_rotation_angle = determine_best_rotation_angle(normalized_image)\n",
    "\n",
    "    # Поворачиваем изображение на лучший угол поворота\n",
    "    rotated_image = rotate(normalized_image, best_rotation_angle, reshape=False)\n",
    "\n",
    "    # Обрезаем верхнюю часть изображения (35%)\n",
    "    cropped_image = rotated_image[:int(rotated_image.shape[0] * 0.35), :]\n",
    "\n",
    "    # Применяем пороговое преобразование Оцу для бинаризации изображения\n",
    "    _, binary_image = cv2.threshold(cropped_image, 0, 255, cv2.THRESH_BINARY + cv2.THRESH_OTSU)\n",
    "\n",
    "    # Применяем морфологическое преобразование (Дилатация, Замыкание)\n",
    "    kernel = np.ones((3, 3), np.uint8)\n",
    "    dilated_image = cv2.dilate(binary_image, kernel, iterations=1)\n",
    "    morphed_image = cv2.erode(dilated_image, kernel, iterations=1)\n",
    "\n",
    "    # Указываем параметры OCR\n",
    "    custom_config = r'--oem 3 --psm 6'\n",
    "    text = pytesseract.image_to_string(morphed_image, config=custom_config, lang='rus+eng')\n",
    "\n",
    "    # Заменяем символы новой строки пробелом\n",
    "    text = text.replace('\\n', ' ')\n",
    "    print(text)\n",
    "\n",
    "    # Записываем имя файла и распознанный текст в файл CSV\n",
    "    csv_writer.writerow([file, text])"
   ],
   "metadata": {
    "collapsed": false,
    "ExecuteTime": {
     "end_time": "2023-09-08T03:33:27.387641600Z",
     "start_time": "2023-09-08T03:33:27.360656100Z"
    }
   }
  },
  {
   "cell_type": "code",
   "execution_count": 33,
   "outputs": [
    {
     "data": {
      "text/plain": "                                     file_name  \\\n0     00c7f210-035a-4e57-ba49-6a643d07b52e.jpg   \n1     00f4a973-06b5-4198-bcd1-0f15005165b2.jpg   \n2     00fe5b11-2102-4661-9306-16dba039ef59.jpg   \n3     010c29a1-b6c5-4455-8470-cc49555263e7.jpg   \n4     014760b3-dbe2-4fa2-85fe-a48ad24f46eb.jpg   \n...                                        ...   \n2084  ff992beb-be68-48d2-b2e2-80131ab7477b.jpg   \n2085  ffb38fd1-8839-46d4-8898-9b8cd8c6a8ca.jpg   \n2086  ffb4c392-b523-49a3-9bce-45819814c489.jpg   \n2087  fff64dd9-81a4-45f1-8a46-4571b8c76a91.jpg   \n2088  fff9993e-8478-454d-9392-8187db2b41e5.jpg   \n\n                                                   text  \\\n0                  REDDS ПИВНОЙ НАПИТОЖ 0,33Л CT/ BYT \n   \n1                       53M ж Сыр НОСН!_А!\\!!_) sg, B \n   \n2                     ’‚. т mary mMEBCKOP i ) yaee |. \n   \n3     | ИМУНЕЛЕ НЕО НАПИТОК NPORYKT БЕЗ В | КИсЛОМОЛ...   \n4              tes 5 Lt BETOE 0.44n | РЕа oy by Gy, 5 \n   \n...                                                 ...   \n2084         HEKTAP RICH ВИШНЕВЫЙ Be OCBFTNFHEE IS; ‚ \n   \n2085                      ‚ Ботоныик SNICKERS 50,5r Ю \n   \n2086  |'“… КУККНИ COK ABNOKO/ ГРУША | ОСВЕТ С SMEC 0...   \n2087  B3M)K СЫР ВИОЛА/ВАЛИО  ТВОРОЖНЫЙ СсЛИВОЧчНЫЙ 7...   \n2088   I: ‘, ‚г ‚’,) ‘›_;‘__.‘‚1 i igh 4 оЕ '_| ke re \n   \n\n                                             text_clean  \n0                    REDDS ПИВНОЙ НАПИТОЖ 033Л CT BYT \n  \n1                                53M ж Сыр НОСНА sg B \n  \n2                         . т mary mMEBCKOP i  yaee . \n  \n3      ИМУНЕЛЕ НЕО НАПИТОК NPORYKT БЕЗ В  КИсЛОМОЛОЧ...  \n4                tes 5 Lt BETOE 0.44n  РЕа oy by Gy 5 \n  \n...                                                 ...  \n2084           HEKTAP RICH ВИШНЕВЫЙ Be OCBFTNFHEE IS  \n  \n2085                         Ботоныик SNICKERS 505r Ю \n  \n2086   КУККНИ COK ABNOKO ГРУША  ОСВЕТ С SMEC 021 1 T...  \n2087  B3MK СЫР ВИОЛАВАЛИО  ТВОРОЖНЫЙ СсЛИВОЧчНЫЙ 70 ...  \n2088                       I  г  .1 i igh 4 оЕ  ke re \n  \n\n[2089 rows x 3 columns]",
      "text/html": "<div>\n<style scoped>\n    .dataframe tbody tr th:only-of-type {\n        vertical-align: middle;\n    }\n\n    .dataframe tbody tr th {\n        vertical-align: top;\n    }\n\n    .dataframe thead th {\n        text-align: right;\n    }\n</style>\n<table border=\"1\" class=\"dataframe\">\n  <thead>\n    <tr style=\"text-align: right;\">\n      <th></th>\n      <th>file_name</th>\n      <th>text</th>\n      <th>text_clean</th>\n    </tr>\n  </thead>\n  <tbody>\n    <tr>\n      <th>0</th>\n      <td>00c7f210-035a-4e57-ba49-6a643d07b52e.jpg</td>\n      <td>REDDS ПИВНОЙ НАПИТОЖ 0,33Л CT/ BYT</td>\n      <td>REDDS ПИВНОЙ НАПИТОЖ 033Л CT BYT</td>\n    </tr>\n    <tr>\n      <th>1</th>\n      <td>00f4a973-06b5-4198-bcd1-0f15005165b2.jpg</td>\n      <td>53M ж Сыр НОСН!_А!\\!!_) sg, B</td>\n      <td>53M ж Сыр НОСНА sg B</td>\n    </tr>\n    <tr>\n      <th>2</th>\n      <td>00fe5b11-2102-4661-9306-16dba039ef59.jpg</td>\n      <td>’‚. т mary mMEBCKOP i ) yaee |.</td>\n      <td>. т mary mMEBCKOP i  yaee .</td>\n    </tr>\n    <tr>\n      <th>3</th>\n      <td>010c29a1-b6c5-4455-8470-cc49555263e7.jpg</td>\n      <td>| ИМУНЕЛЕ НЕО НАПИТОК NPORYKT БЕЗ В | КИсЛОМОЛ...</td>\n      <td>ИМУНЕЛЕ НЕО НАПИТОК NPORYKT БЕЗ В  КИсЛОМОЛОЧ...</td>\n    </tr>\n    <tr>\n      <th>4</th>\n      <td>014760b3-dbe2-4fa2-85fe-a48ad24f46eb.jpg</td>\n      <td>tes 5 Lt BETOE 0.44n | РЕа oy by Gy, 5</td>\n      <td>tes 5 Lt BETOE 0.44n  РЕа oy by Gy 5</td>\n    </tr>\n    <tr>\n      <th>...</th>\n      <td>...</td>\n      <td>...</td>\n      <td>...</td>\n    </tr>\n    <tr>\n      <th>2084</th>\n      <td>ff992beb-be68-48d2-b2e2-80131ab7477b.jpg</td>\n      <td>HEKTAP RICH ВИШНЕВЫЙ Be OCBFTNFHEE IS; ‚</td>\n      <td>HEKTAP RICH ВИШНЕВЫЙ Be OCBFTNFHEE IS</td>\n    </tr>\n    <tr>\n      <th>2085</th>\n      <td>ffb38fd1-8839-46d4-8898-9b8cd8c6a8ca.jpg</td>\n      <td>‚ Ботоныик SNICKERS 50,5r Ю</td>\n      <td>Ботоныик SNICKERS 505r Ю</td>\n    </tr>\n    <tr>\n      <th>2086</th>\n      <td>ffb4c392-b523-49a3-9bce-45819814c489.jpg</td>\n      <td>|'“… КУККНИ COK ABNOKO/ ГРУША | ОСВЕТ С SMEC 0...</td>\n      <td>КУККНИ COK ABNOKO ГРУША  ОСВЕТ С SMEC 021 1 T...</td>\n    </tr>\n    <tr>\n      <th>2087</th>\n      <td>fff64dd9-81a4-45f1-8a46-4571b8c76a91.jpg</td>\n      <td>B3M)K СЫР ВИОЛА/ВАЛИО  ТВОРОЖНЫЙ СсЛИВОЧчНЫЙ 7...</td>\n      <td>B3MK СЫР ВИОЛАВАЛИО  ТВОРОЖНЫЙ СсЛИВОЧчНЫЙ 70 ...</td>\n    </tr>\n    <tr>\n      <th>2088</th>\n      <td>fff9993e-8478-454d-9392-8187db2b41e5.jpg</td>\n      <td>I: ‘, ‚г ‚’,) ‘›_;‘__.‘‚1 i igh 4 оЕ '_| ke re</td>\n      <td>I  г  .1 i igh 4 оЕ  ke re</td>\n    </tr>\n  </tbody>\n</table>\n<p>2089 rows × 3 columns</p>\n</div>"
     },
     "execution_count": 33,
     "metadata": {},
     "output_type": "execute_result"
    }
   ],
   "source": [
    "# Считываем csv файл и сохраняем в формате xlsx\n",
    "import pandas as pd\n",
    "from string import punctuation, ascii_letters, digits, whitespace\n",
    "import xlsxwriter\n",
    "\n",
    "filename_war = 'not_analogues_clear.csv'\n",
    "data = pd.read_csv(filename_war)\n",
    "\n",
    "cyrillic_letters = u\"абвгдеёжзийклмнопрстуфхцчшщъыьэюяАБВГДЕЁЖЗИЙКЛМНОПРСТУФХЦЧШЩЪЫЬЭЮЯ.\"\n",
    "\n",
    "def strip(text):\n",
    "    pnt = punctuation.index('.')\n",
    "    allowed_chars = cyrillic_letters + ascii_letters + digits + whitespace + punctuation[pnt]\n",
    "    text = \"\".join([c for c in text if c in allowed_chars])\n",
    "    return text\n",
    "\n",
    "data['text_clean'] = data['text'].apply(lambda x: strip(x))\n",
    "\n",
    "output_filename = 'not_analogues_clear.xlsx'\n",
    "workbook = xlsxwriter.Workbook(output_filename, {'strings_to_urls': False, 'strings_to_formulas': False})\n",
    "worksheet = workbook.add_worksheet()\n",
    "header_format = workbook.add_format({'bold': True})\n",
    "\n",
    "# Читаем строку заголовка\n",
    "for idx, header in enumerate(data.columns):\n",
    "    worksheet.write(0, idx, header, header_format)\n",
    "\n",
    "# Читаем данные\n",
    "for row_idx, row in data.iterrows():\n",
    "    for col_idx, value in enumerate(row):\n",
    "        worksheet.write(row_idx + 1, col_idx, value)\n",
    "\n",
    "workbook.close()"
   ],
   "metadata": {
    "collapsed": false,
    "ExecuteTime": {
     "end_time": "2023-09-07T18:57:05.693565900Z",
     "start_time": "2023-09-07T18:57:05.567957400Z"
    }
   }
  },
  {
   "cell_type": "code",
   "execution_count": null,
   "outputs": [],
   "source": [
    "import pandas as pd\n",
    "\n",
    "# Считываем данные из xlsx файла\n",
    "df = pd.read_excel('output_clean_files/not_analogues_clear.xlsx', 'Sheet1')\n",
    "\n",
    "# Сохраняем данные в csv файл с кодировкой utf-8-sig\n",
    "df.to_csv('output_clean_files/not_analogues_clean.csv', encoding='utf-8-sig', index=False)"
   ],
   "metadata": {
    "collapsed": false
   }
  },
  {
   "cell_type": "code",
   "execution_count": null,
   "outputs": [],
   "source": [
    "import pandas as pd\n",
    "import os\n",
    "\n",
    "# Указываем путь к каталогу с jpg файлами\n",
    "jpg_folder = 'output_clean_files/not_analogues'\n",
    "\n",
    "# загрузка csv файла в pandas dataframe\n",
    "df = pd.read_csv('output_clean_files/not_analogues_clean.csv')\n",
    "\n",
    "# фильтрация строк с attribute==1\n",
    "df_flag_1 = df[df['attribute'] == 1]\n",
    "\n",
    "# удаление файлов с attribute==0\n",
    "for filename in df[df['attribute'] == 0]['file_name']:\n",
    "    file_path = os.path.join(jpg_folder, filename)  # Получаем полный путь к файлу\n",
    "    if os.path.exists(file_path) and os.path.isfile(file_path):\n",
    "        os.remove(file_path)\n",
    "\n",
    "# Удаление первой колонки из DataFrame (axis=1 указывает, что удаляем колонку)\n",
    "first_column_name = df_flag_1.columns[0]\n",
    "df_flag_1 = df_flag_1.drop(first_column_name, axis=1)\n",
    "\n",
    "# Удаление колонки 'attribute' из DataFrame (axis=1 указывает, что удаляем колонку)\n",
    "df_flag_1 = df_flag_1.drop('attribute', axis=1)\n",
    "\n",
    "# сохранение обновленного dataframe в csv файл\n",
    "df_flag_1.to_csv('output_clean_files/not_analogues_clean_full.csv', index=False, encoding='utf-8-sig')\n",
    "df_flag_1"
   ],
   "metadata": {
    "collapsed": false
   }
  }
 ],
 "metadata": {
  "kernelspec": {
   "display_name": "Python 3",
   "language": "python",
   "name": "python3"
  },
  "language_info": {
   "codemirror_mode": {
    "name": "ipython",
    "version": 2
   },
   "file_extension": ".py",
   "mimetype": "text/x-python",
   "name": "python",
   "nbconvert_exporter": "python",
   "pygments_lexer": "ipython2",
   "version": "2.7.6"
  }
 },
 "nbformat": 4,
 "nbformat_minor": 0
}
