{
 "cells": [
  {
   "cell_type": "markdown",
   "id": "0550177c-10e1-407d-9007-00eb2ec88180",
   "metadata": {},
   "source": [
    "# Импорты"
   ]
  },
  {
   "cell_type": "code",
   "execution_count": 1,
   "id": "ab090659-7542-48ff-9b61-8890470b300b",
   "metadata": {
    "tags": [],
    "ExecuteTime": {
     "end_time": "2023-09-08T11:46:12.395071500Z",
     "start_time": "2023-09-08T11:45:09.825693800Z"
    }
   },
   "outputs": [
    {
     "name": "stdout",
     "output_type": "stream",
     "text": [
      "Collecting fuzzywuzzy\n",
      "  Downloading fuzzywuzzy-0.18.0-py2.py3-none-any.whl (18 kB)\n",
      "Installing collected packages: fuzzywuzzy\n",
      "Successfully installed fuzzywuzzy-0.18.0\n",
      "Note: you may need to restart the kernel to use updated packages.\n"
     ]
    }
   ],
   "source": [
    "pip install fuzzywuzzy"
   ]
  },
  {
   "cell_type": "code",
   "execution_count": 4,
   "id": "e04ee769-4744-4045-a35e-2f0dc6ea0c90",
   "metadata": {
    "tags": [],
    "ExecuteTime": {
     "end_time": "2023-09-08T11:57:23.740422200Z",
     "start_time": "2023-09-08T11:57:21.358430800Z"
    }
   },
   "outputs": [
    {
     "name": "stderr",
     "output_type": "stream",
     "text": [
      "D:\\Study\\ИТМО_Хакатон\\venv\\lib\\site-packages\\fuzzywuzzy\\fuzz.py:11: UserWarning: Using slow pure-python SequenceMatcher. Install python-Levenshtein to remove this warning\n",
      "  warnings.warn('Using slow pure-python SequenceMatcher. Install python-Levenshtein to remove this warning')\n",
      "[nltk_data] Downloading package words to\n",
      "[nltk_data]     C:\\Users\\mazav\\AppData\\Roaming\\nltk_data...\n",
      "[nltk_data]   Unzipping corpora\\words.zip.\n"
     ]
    },
    {
     "data": {
      "text/plain": "True"
     },
     "execution_count": 4,
     "metadata": {},
     "output_type": "execute_result"
    }
   ],
   "source": [
    "import pandas as pd\n",
    "import re\n",
    "import nltk\n",
    "from nltk.corpus import words\n",
    "from nltk.metrics import edit_distance\n",
    "from nltk.stem.snowball import SnowballStemmer\n",
    "from spellchecker import SpellChecker\n",
    "import pymorphy2\n",
    "from fuzzywuzzy import fuzz\n",
    "nltk.download(\"words\")"
   ]
  },
  {
   "cell_type": "markdown",
   "id": "1dd0b623-de74-441d-a12f-4c4fda3c8129",
   "metadata": {},
   "source": [
    "# Загрузка данных"
   ]
  },
  {
   "cell_type": "code",
   "execution_count": 5,
   "id": "d2a89bf7-d0d9-4c0a-9b49-4cbdb7823256",
   "metadata": {
    "ExecuteTime": {
     "end_time": "2023-09-08T11:57:30.853505800Z",
     "start_time": "2023-09-08T11:57:30.821887700Z"
    }
   },
   "outputs": [
    {
     "data": {
      "text/plain": "                                       analogue_name\n0                Вино RED WINE кр. п/сл. (Россия) 1L\n1  Виски WILLIAM LAWSON'S купажированный алк.40% ...\n2  Вода питьевая СВЯТОЙ ИСТОЧНИК природная негаз....\n3  Квас 365 ДНЕЙ фильтрованный паст. ПЭТ (Россия)...\n4        Кетчуп HEINZ томатный дой-пак (Россия) 320г",
      "text/html": "<div>\n<style scoped>\n    .dataframe tbody tr th:only-of-type {\n        vertical-align: middle;\n    }\n\n    .dataframe tbody tr th {\n        vertical-align: top;\n    }\n\n    .dataframe thead th {\n        text-align: right;\n    }\n</style>\n<table border=\"1\" class=\"dataframe\">\n  <thead>\n    <tr style=\"text-align: right;\">\n      <th></th>\n      <th>analogue_name</th>\n    </tr>\n  </thead>\n  <tbody>\n    <tr>\n      <th>0</th>\n      <td>Вино RED WINE кр. п/сл. (Россия) 1L</td>\n    </tr>\n    <tr>\n      <th>1</th>\n      <td>Виски WILLIAM LAWSON'S купажированный алк.40% ...</td>\n    </tr>\n    <tr>\n      <th>2</th>\n      <td>Вода питьевая СВЯТОЙ ИСТОЧНИК природная негаз....</td>\n    </tr>\n    <tr>\n      <th>3</th>\n      <td>Квас 365 ДНЕЙ фильтрованный паст. ПЭТ (Россия)...</td>\n    </tr>\n    <tr>\n      <th>4</th>\n      <td>Кетчуп HEINZ томатный дой-пак (Россия) 320г</td>\n    </tr>\n  </tbody>\n</table>\n</div>"
     },
     "execution_count": 5,
     "metadata": {},
     "output_type": "execute_result"
    }
   ],
   "source": [
    "goods_ours = pd.read_csv('datasets/napoleon_it_retail/itmo_meta.csv', index_col='Unnamed: 0')\n",
    "goods_ours.head()"
   ]
  },
  {
   "cell_type": "code",
   "execution_count": 6,
   "id": "5af9a99c-f107-46b5-af82-914a26c7c4d5",
   "metadata": {
    "ExecuteTime": {
     "end_time": "2023-09-08T11:58:33.561831100Z",
     "start_time": "2023-09-08T11:58:33.545773600Z"
    }
   },
   "outputs": [
    {
     "data": {
      "text/plain": "                                  file_name  \\\n0  00488a41-7407-49df-a509-514fc51f2d52.jpg   \n1  00dfd9e2-2203-4eda-bc55-81cf2beacad0.jpg   \n2  0106df30-685e-4372-9c98-5cd10e16e7ca.jpg   \n3  0114fd9e-d1d2-4852-ba29-a2774e0aca96.jpg   \n4  013a6e20-cc27-440e-a311-a9b944a8260b.jpg   \n\n                                                text  \\\n0  _ ПРОСТОКВАШИНО КЕФИР феа TEnA 2,5% ЭЗОГ МОЛОЧ...   \n1                 Виски ВИЛЬЯМ лО)'СОНС 0.77 _x000C_   \n2  ad ‚ '. ` HOY cere! & Чоко Пай 120, ‚ —4%%\\“.\\...   \n3  all AN Kecbup 3,2% п “о 930r.  ч Casio Зеленое...   \n4  ' Набор конфет icy. | | Accop rs шоколадные ° ...   \n\n                                          text_clean  feature  \n0   ПРОСТОКВАШИНО КЕФИР феа TEnA 25 ЭЗОГ МОЛОЧНОГ...        1  \n1                   Виски ВИЛЬЯМ лОСОНС 0.77 _x000C_        1  \n2  ad  .  HOY cere  Чоко Пай 120  4. 3 r. т wy НЕ...        1  \n3  all AN Kecbup 32 п о 930r.  ч Casio Зеленое Ми...        1  \n4   Набор конфет icy.   Accop rs шоколадные  3014...        1  ",
      "text/html": "<div>\n<style scoped>\n    .dataframe tbody tr th:only-of-type {\n        vertical-align: middle;\n    }\n\n    .dataframe tbody tr th {\n        vertical-align: top;\n    }\n\n    .dataframe thead th {\n        text-align: right;\n    }\n</style>\n<table border=\"1\" class=\"dataframe\">\n  <thead>\n    <tr style=\"text-align: right;\">\n      <th></th>\n      <th>file_name</th>\n      <th>text</th>\n      <th>text_clean</th>\n      <th>feature</th>\n    </tr>\n  </thead>\n  <tbody>\n    <tr>\n      <th>0</th>\n      <td>00488a41-7407-49df-a509-514fc51f2d52.jpg</td>\n      <td>_ ПРОСТОКВАШИНО КЕФИР феа TEnA 2,5% ЭЗОГ МОЛОЧ...</td>\n      <td>ПРОСТОКВАШИНО КЕФИР феа TEnA 25 ЭЗОГ МОЛОЧНОГ...</td>\n      <td>1</td>\n    </tr>\n    <tr>\n      <th>1</th>\n      <td>00dfd9e2-2203-4eda-bc55-81cf2beacad0.jpg</td>\n      <td>Виски ВИЛЬЯМ лО)'СОНС 0.77 _x000C_</td>\n      <td>Виски ВИЛЬЯМ лОСОНС 0.77 _x000C_</td>\n      <td>1</td>\n    </tr>\n    <tr>\n      <th>2</th>\n      <td>0106df30-685e-4372-9c98-5cd10e16e7ca.jpg</td>\n      <td>ad ‚ '. ` HOY cere! &amp; Чоко Пай 120, ‚ —4%%\\“.\\...</td>\n      <td>ad  .  HOY cere  Чоко Пай 120  4. 3 r. т wy НЕ...</td>\n      <td>1</td>\n    </tr>\n    <tr>\n      <th>3</th>\n      <td>0114fd9e-d1d2-4852-ba29-a2774e0aca96.jpg</td>\n      <td>all AN Kecbup 3,2% п “о 930r.  ч Casio Зеленое...</td>\n      <td>all AN Kecbup 32 п о 930r.  ч Casio Зеленое Ми...</td>\n      <td>1</td>\n    </tr>\n    <tr>\n      <th>4</th>\n      <td>013a6e20-cc27-440e-a311-a9b944a8260b.jpg</td>\n      <td>' Набор конфет icy. | | Accop rs шоколадные ° ...</td>\n      <td>Набор конфет icy.   Accop rs шоколадные  3014...</td>\n      <td>1</td>\n    </tr>\n  </tbody>\n</table>\n</div>"
     },
     "execution_count": 6,
     "metadata": {},
     "output_type": "execute_result"
    }
   ],
   "source": [
    "analogs = pd.read_csv('output_clean_files/analogues_clean_full.csv')\n",
    "analogs.head()"
   ]
  },
  {
   "cell_type": "code",
   "execution_count": 7,
   "id": "cd2da1e4-4be6-435a-a517-49d3826b9181",
   "metadata": {
    "ExecuteTime": {
     "end_time": "2023-09-08T11:58:48.816662700Z",
     "start_time": "2023-09-08T11:58:48.785378500Z"
    }
   },
   "outputs": [
    {
     "data": {
      "text/plain": "                                  file_name  \\\n0  00c7f210-035a-4e57-ba49-6a643d07b52e.jpg   \n1  00f4a973-06b5-4198-bcd1-0f15005165b2.jpg   \n2  010c29a1-b6c5-4455-8470-cc49555263e7.jpg   \n3  01b274f8-bd81-4b9c-95e9-1c6e51b1e842.jpg   \n4  02022236-9aaf-4589-979c-e1aa53baf3df.jpg   \n\n                                                text  \\\n0         REDDS ПИВНОЙ НАПИТОЖ 0,33Л CT/ BYT _x000C_   \n1              53M ж Сыр НОСН!_А!\\!!_) sg, B _x000C_   \n2  | ИМУНЕЛЕ НЕО НАПИТОК NPORYKT БЕЗ В | КИсЛОМОЛ...   \n3                 ' Напиток MIN) ВАР мд 7, | _x000C_   \n4     ВОДКА СТОЛИЧНАЯ STOLICHNAYA 40% 0,5Л | _x000C_   \n\n                                          text_clean  feature  \n0           REDDS ПИВНОЙ НАПИТОЖ 033Л CT BYT _x000C_        0  \n1                       53M ж Сыр НОСНА sg B _x000C_        0  \n2   ИМУНЕЛЕ НЕО НАПИТОК NPORYKT БЕЗ В  КИсЛОМОЛОЧ...        0  \n3                      Напиток MIN ВАР мд 7  _x000C_        0  \n4        ВОДКА СТОЛИЧНАЯ STOLICHNAYA 40 05Л  _x000C_        0  ",
      "text/html": "<div>\n<style scoped>\n    .dataframe tbody tr th:only-of-type {\n        vertical-align: middle;\n    }\n\n    .dataframe tbody tr th {\n        vertical-align: top;\n    }\n\n    .dataframe thead th {\n        text-align: right;\n    }\n</style>\n<table border=\"1\" class=\"dataframe\">\n  <thead>\n    <tr style=\"text-align: right;\">\n      <th></th>\n      <th>file_name</th>\n      <th>text</th>\n      <th>text_clean</th>\n      <th>feature</th>\n    </tr>\n  </thead>\n  <tbody>\n    <tr>\n      <th>0</th>\n      <td>00c7f210-035a-4e57-ba49-6a643d07b52e.jpg</td>\n      <td>REDDS ПИВНОЙ НАПИТОЖ 0,33Л CT/ BYT _x000C_</td>\n      <td>REDDS ПИВНОЙ НАПИТОЖ 033Л CT BYT _x000C_</td>\n      <td>0</td>\n    </tr>\n    <tr>\n      <th>1</th>\n      <td>00f4a973-06b5-4198-bcd1-0f15005165b2.jpg</td>\n      <td>53M ж Сыр НОСН!_А!\\!!_) sg, B _x000C_</td>\n      <td>53M ж Сыр НОСНА sg B _x000C_</td>\n      <td>0</td>\n    </tr>\n    <tr>\n      <th>2</th>\n      <td>010c29a1-b6c5-4455-8470-cc49555263e7.jpg</td>\n      <td>| ИМУНЕЛЕ НЕО НАПИТОК NPORYKT БЕЗ В | КИсЛОМОЛ...</td>\n      <td>ИМУНЕЛЕ НЕО НАПИТОК NPORYKT БЕЗ В  КИсЛОМОЛОЧ...</td>\n      <td>0</td>\n    </tr>\n    <tr>\n      <th>3</th>\n      <td>01b274f8-bd81-4b9c-95e9-1c6e51b1e842.jpg</td>\n      <td>' Напиток MIN) ВАР мд 7, | _x000C_</td>\n      <td>Напиток MIN ВАР мд 7  _x000C_</td>\n      <td>0</td>\n    </tr>\n    <tr>\n      <th>4</th>\n      <td>02022236-9aaf-4589-979c-e1aa53baf3df.jpg</td>\n      <td>ВОДКА СТОЛИЧНАЯ STOLICHNAYA 40% 0,5Л | _x000C_</td>\n      <td>ВОДКА СТОЛИЧНАЯ STOLICHNAYA 40 05Л  _x000C_</td>\n      <td>0</td>\n    </tr>\n  </tbody>\n</table>\n</div>"
     },
     "execution_count": 7,
     "metadata": {},
     "output_type": "execute_result"
    }
   ],
   "source": [
    "not_analogs = pd.read_csv('output_clean_files/not_analogues_clean_full.csv')\n",
    "not_analogs.head()"
   ]
  },
  {
   "cell_type": "markdown",
   "id": "fb4e3801-5dbf-463f-bdfa-046990e4d19b",
   "metadata": {},
   "source": [
    "# Объединяем датасеты с аналогами и не аналогами"
   ]
  },
  {
   "cell_type": "code",
   "execution_count": 8,
   "id": "6e46505e-3c7b-483e-bf78-b29f363b7e53",
   "metadata": {
    "tags": [],
    "ExecuteTime": {
     "end_time": "2023-09-08T11:58:53.360232800Z",
     "start_time": "2023-09-08T11:58:53.312851200Z"
    }
   },
   "outputs": [],
   "source": [
    "goods = pd.concat([analogs, not_analogs], axis=0).sample(frac=1).reset_index(drop=True)"
   ]
  },
  {
   "cell_type": "code",
   "execution_count": 9,
   "id": "10990657-d68a-410b-8c46-18ec0f207145",
   "metadata": {
    "tags": [],
    "ExecuteTime": {
     "end_time": "2023-09-08T11:58:54.416999300Z",
     "start_time": "2023-09-08T11:58:54.401221400Z"
    }
   },
   "outputs": [
    {
     "data": {
      "text/plain": "                                   file_name  \\\n0   35dee6f3-19b1-4508-9c78-81be0bbb1e89.jpg   \n1   35750d55-5ba3-4238-8048-3b0c15e58ead.jpg   \n2   cfa401c8-5596-43d3-8253-0f28415293ae.jpg   \n3   d1f8be7e-7530-4c0e-81b1-9fced74ce191.jpg   \n4   656cd957-a3c3-435a-bf6d-45423fab0e42.jpg   \n5   adfb02bd-d92e-469f-af79-7982ba735888.jpg   \n6   15a3f490-d8bb-4ecf-aa3e-4362670ebb66.jpg   \n7   a8e66fcc-91ae-47d5-9179-2026b320b4ef.jpg   \n8   aaca2797-426e-4cb2-a447-dfd361fa5094.jpg   \n9   3d9fe58a-784e-4952-892c-8bd3e4323d99.jpg   \n10  2c83cac2-4015-4ce7-ab26-caa68974192e.jpg   \n11  2c5e42d9-cac2-4f0a-a907-6629e273a968.jpg   \n12  57c3ec82-1dab-480a-8b65-6dd3f01c6ddf.jpg   \n13  af0c6ee0-1202-49b4-baad-034d7196cf9a.jpg   \n14  a7dce60c-1005-4a0a-8cd2-fd0cf2569670.jpg   \n15  b295499d-6701-4b39-b9d1-6aa999297533.jpg   \n16  c8084a6b-4b0d-4878-ae6f-99335d613eaa.jpg   \n17  ba5644bf-3292-45b4-98eb-de68023063f5.jpg   \n18  6bd14257-b494-4b5c-9729-67aceb9de936.jpg   \n19  17c9aab4-f16e-48a1-a0da-939efecd5785.jpg   \n\n                                                 text  \\\n0         ВИНО АПСНЫ КРАСНОЕ П/СЛ 0,75Л 5692° _x000C_   \n1   і — КОНФЕТЫ! ЖЕВ.МАМВА/МАМБА В ACCOPT.26,5/27,...   \n2   I ea  . — -н о. . —ьое ол |  Напиток ЛЮБИМАЯ K...   \n3       | 63M MK Кефир ПРОСТОКВАШИНО 710oFr | _x000C_   \n4   Ё | PEC SIOKBAWINHO КЕФИР | '}22?7.11’.?53' | ...   \n5   EPICA ИОГУРТ С feet од л ва , KIT) BHKOM 4.5% ...   \n6   оннн ЕН ИЕ  ° ПИВО СТАРЫЙ МЕЛЬНИКИЗ —  \\\"-. БО...   \n7        EEE“ Виски ФОУЛЕРС 0.5n эормовой 40% _x000C_   \n8   ВН НН Р И ОННЕа аоаа аее “KA ЗИМНЯЯ ДЕРЕВЕНЬКА...   \n9   a ae ADREMALINE BUSH НАПИТОК SHEPTET _ МАНГО 0...   \n10  НАПИТОК MARTINI BIANCO ПРОДУКТ БЕПЫЬ cn HE ЯВЛ...   \n11  НВ Нопиток МАРТИНИ BbAHKG ‹; |. a YOOM.Ger ip ...   \n12  GREE NFIELD ЧАЙ СПРИНГ МЕЛОДИ 25ПАК F 37,57 | ...   \n13  ВИНО ОРДИН.ОЛД КОУч МО. СОВ.БЛАН БЕЛ.СУХ.0,/ 5...   \n14             н HH Напиток МАРТИНИ 0.25nr П| _x000C_   \n15  | „. ВИНО ЖАРДАН ФЛЕРИ СИРА 0.75A ' NEV & OK к...   \n16  — ПИВО АМСТЕЛ ПРЕМ.ПИЛСЕНЕР | СВ.АЛК.4,8% Ж/Б ...   \n17  CHOCO Р1Е ПЕЧЕНЬЕ в ШОКОЛАДНОИ т омИ х60ГР _x0...   \n18  KPYACCAH МИНИ CHIPICAOC ® KPEMOM KAKAO 50Г ga ...   \n19  — — запазиолилллилллиллллллллОлллЕЕ ципсы LAYS...   \n\n                                           text_clean  feature  \n0            ВИНО АПСНЫ КРАСНОЕ ПСЛ 075Л 5692 _x000C_        1  \n1     КОНФЕТЫ ЖЕВ.МАМВАМАМБА В ACCOPT.265275F _x000C_        0  \n2   I ea  .  н о. . ьое ол   Напиток ЛЮБИМАЯ KONA ...        0  \n3          63M MK Кефир ПРОСТОКВАШИНО 710oFr  _x000C_        1  \n4   Ё  PEC SIOKBAWINHO КЕФИР  227.11.53   MonoYy H...        1  \n5   EPICA ИОГУРТ С feet од л ва  KIT BHKOM 4.5 Teo...        0  \n6   оннн ЕН ИЕ   ПИВО СТАРЫЙ МЕЛЬНИКИЗ   . БОЧ.МЯГ...        1  \n7          EEE Виски ФОУЛЕРС 0.5n эормовой 40 _x000C_        0  \n8   ВН НН Р И ОННЕа аоаа аее KA ЗИМНЯЯ ДЕРЕВЕНЬКА ...        0  \n9   a ae ADREMALINE BUSH НАПИТОК SHEPTET  МАНГО 04...        1  \n10  НАПИТОК MARTINI BIANCO ПРОДУКТ БЕПЫЬ cn HE ЯВЛ...        1  \n11  НВ Нопиток МАРТИНИ BbAHKG  . a YOOM.Ger ip и S...        1  \n12  GREE NFIELD ЧАЙ СПРИНГ МЕЛОДИ 25ПАК F 3757  _x...        0  \n13  ВИНО ОРДИН.ОЛД КОУч МО. СОВ.БЛАН БЕЛ.СУХ.0 5Л ...        0  \n14              н HH Напиток МАРТИНИ 0.25nr П _x000C_        0  \n15   . ВИНО ЖАРДАН ФЛЕРИ СИРА 0.75A  NEV  OK красн...        0  \n16   ПИВО АМСТЕЛ ПРЕМ.ПИЛСЕНЕР  СВ.АЛК.48 ЖБ 0431 ...        0  \n17  CHOCO Р1Е ПЕЧЕНЬЕ в ШОКОЛАДНОИ т омИ х60ГР _x0...        1  \n18  KPYACCAH МИНИ CHIPICAOC  KPEMOM KAKAO 50Г ga m...        0  \n19    запазиолилллилллиллллллллОлллЕЕ ципсы LAYS 2...        1  ",
      "text/html": "<div>\n<style scoped>\n    .dataframe tbody tr th:only-of-type {\n        vertical-align: middle;\n    }\n\n    .dataframe tbody tr th {\n        vertical-align: top;\n    }\n\n    .dataframe thead th {\n        text-align: right;\n    }\n</style>\n<table border=\"1\" class=\"dataframe\">\n  <thead>\n    <tr style=\"text-align: right;\">\n      <th></th>\n      <th>file_name</th>\n      <th>text</th>\n      <th>text_clean</th>\n      <th>feature</th>\n    </tr>\n  </thead>\n  <tbody>\n    <tr>\n      <th>0</th>\n      <td>35dee6f3-19b1-4508-9c78-81be0bbb1e89.jpg</td>\n      <td>ВИНО АПСНЫ КРАСНОЕ П/СЛ 0,75Л 5692° _x000C_</td>\n      <td>ВИНО АПСНЫ КРАСНОЕ ПСЛ 075Л 5692 _x000C_</td>\n      <td>1</td>\n    </tr>\n    <tr>\n      <th>1</th>\n      <td>35750d55-5ba3-4238-8048-3b0c15e58ead.jpg</td>\n      <td>і — КОНФЕТЫ! ЖЕВ.МАМВА/МАМБА В ACCOPT.26,5/27,...</td>\n      <td>КОНФЕТЫ ЖЕВ.МАМВАМАМБА В ACCOPT.265275F _x000C_</td>\n      <td>0</td>\n    </tr>\n    <tr>\n      <th>2</th>\n      <td>cfa401c8-5596-43d3-8253-0f28415293ae.jpg</td>\n      <td>I ea  . — -н о. . —ьое ол |  Напиток ЛЮБИМАЯ K...</td>\n      <td>I ea  .  н о. . ьое ол   Напиток ЛЮБИМАЯ KONA ...</td>\n      <td>0</td>\n    </tr>\n    <tr>\n      <th>3</th>\n      <td>d1f8be7e-7530-4c0e-81b1-9fced74ce191.jpg</td>\n      <td>| 63M MK Кефир ПРОСТОКВАШИНО 710oFr | _x000C_</td>\n      <td>63M MK Кефир ПРОСТОКВАШИНО 710oFr  _x000C_</td>\n      <td>1</td>\n    </tr>\n    <tr>\n      <th>4</th>\n      <td>656cd957-a3c3-435a-bf6d-45423fab0e42.jpg</td>\n      <td>Ё | PEC SIOKBAWINHO КЕФИР | '}22?7.11’.?53' | ...</td>\n      <td>Ё  PEC SIOKBAWINHO КЕФИР  227.11.53   MonoYy H...</td>\n      <td>1</td>\n    </tr>\n    <tr>\n      <th>5</th>\n      <td>adfb02bd-d92e-469f-af79-7982ba735888.jpg</td>\n      <td>EPICA ИОГУРТ С feet од л ва , KIT) BHKOM 4.5% ...</td>\n      <td>EPICA ИОГУРТ С feet од л ва  KIT BHKOM 4.5 Teo...</td>\n      <td>0</td>\n    </tr>\n    <tr>\n      <th>6</th>\n      <td>15a3f490-d8bb-4ecf-aa3e-4362670ebb66.jpg</td>\n      <td>оннн ЕН ИЕ  ° ПИВО СТАРЫЙ МЕЛЬНИКИЗ —  \\\"-. БО...</td>\n      <td>оннн ЕН ИЕ   ПИВО СТАРЫЙ МЕЛЬНИКИЗ   . БОЧ.МЯГ...</td>\n      <td>1</td>\n    </tr>\n    <tr>\n      <th>7</th>\n      <td>a8e66fcc-91ae-47d5-9179-2026b320b4ef.jpg</td>\n      <td>EEE“ Виски ФОУЛЕРС 0.5n эормовой 40% _x000C_</td>\n      <td>EEE Виски ФОУЛЕРС 0.5n эормовой 40 _x000C_</td>\n      <td>0</td>\n    </tr>\n    <tr>\n      <th>8</th>\n      <td>aaca2797-426e-4cb2-a447-dfd361fa5094.jpg</td>\n      <td>ВН НН Р И ОННЕа аоаа аее “KA ЗИМНЯЯ ДЕРЕВЕНЬКА...</td>\n      <td>ВН НН Р И ОННЕа аоаа аее KA ЗИМНЯЯ ДЕРЕВЕНЬКА ...</td>\n      <td>0</td>\n    </tr>\n    <tr>\n      <th>9</th>\n      <td>3d9fe58a-784e-4952-892c-8bd3e4323d99.jpg</td>\n      <td>a ae ADREMALINE BUSH НАПИТОК SHEPTET _ МАНГО 0...</td>\n      <td>a ae ADREMALINE BUSH НАПИТОК SHEPTET  МАНГО 04...</td>\n      <td>1</td>\n    </tr>\n    <tr>\n      <th>10</th>\n      <td>2c83cac2-4015-4ce7-ab26-caa68974192e.jpg</td>\n      <td>НАПИТОК MARTINI BIANCO ПРОДУКТ БЕПЫЬ cn HE ЯВЛ...</td>\n      <td>НАПИТОК MARTINI BIANCO ПРОДУКТ БЕПЫЬ cn HE ЯВЛ...</td>\n      <td>1</td>\n    </tr>\n    <tr>\n      <th>11</th>\n      <td>2c5e42d9-cac2-4f0a-a907-6629e273a968.jpg</td>\n      <td>НВ Нопиток МАРТИНИ BbAHKG ‹; |. a YOOM.Ger ip ...</td>\n      <td>НВ Нопиток МАРТИНИ BbAHKG  . a YOOM.Ger ip и S...</td>\n      <td>1</td>\n    </tr>\n    <tr>\n      <th>12</th>\n      <td>57c3ec82-1dab-480a-8b65-6dd3f01c6ddf.jpg</td>\n      <td>GREE NFIELD ЧАЙ СПРИНГ МЕЛОДИ 25ПАК F 37,57 | ...</td>\n      <td>GREE NFIELD ЧАЙ СПРИНГ МЕЛОДИ 25ПАК F 3757  _x...</td>\n      <td>0</td>\n    </tr>\n    <tr>\n      <th>13</th>\n      <td>af0c6ee0-1202-49b4-baad-034d7196cf9a.jpg</td>\n      <td>ВИНО ОРДИН.ОЛД КОУч МО. СОВ.БЛАН БЕЛ.СУХ.0,/ 5...</td>\n      <td>ВИНО ОРДИН.ОЛД КОУч МО. СОВ.БЛАН БЕЛ.СУХ.0 5Л ...</td>\n      <td>0</td>\n    </tr>\n    <tr>\n      <th>14</th>\n      <td>a7dce60c-1005-4a0a-8cd2-fd0cf2569670.jpg</td>\n      <td>н HH Напиток МАРТИНИ 0.25nr П| _x000C_</td>\n      <td>н HH Напиток МАРТИНИ 0.25nr П _x000C_</td>\n      <td>0</td>\n    </tr>\n    <tr>\n      <th>15</th>\n      <td>b295499d-6701-4b39-b9d1-6aa999297533.jpg</td>\n      <td>| „. ВИНО ЖАРДАН ФЛЕРИ СИРА 0.75A ' NEV &amp; OK к...</td>\n      <td>. ВИНО ЖАРДАН ФЛЕРИ СИРА 0.75A  NEV  OK красн...</td>\n      <td>0</td>\n    </tr>\n    <tr>\n      <th>16</th>\n      <td>c8084a6b-4b0d-4878-ae6f-99335d613eaa.jpg</td>\n      <td>— ПИВО АМСТЕЛ ПРЕМ.ПИЛСЕНЕР | СВ.АЛК.4,8% Ж/Б ...</td>\n      <td>ПИВО АМСТЕЛ ПРЕМ.ПИЛСЕНЕР  СВ.АЛК.48 ЖБ 0431 ...</td>\n      <td>0</td>\n    </tr>\n    <tr>\n      <th>17</th>\n      <td>ba5644bf-3292-45b4-98eb-de68023063f5.jpg</td>\n      <td>CHOCO Р1Е ПЕЧЕНЬЕ в ШОКОЛАДНОИ т омИ х60ГР _x0...</td>\n      <td>CHOCO Р1Е ПЕЧЕНЬЕ в ШОКОЛАДНОИ т омИ х60ГР _x0...</td>\n      <td>1</td>\n    </tr>\n    <tr>\n      <th>18</th>\n      <td>6bd14257-b494-4b5c-9729-67aceb9de936.jpg</td>\n      <td>KPYACCAH МИНИ CHIPICAOC ® KPEMOM KAKAO 50Г ga ...</td>\n      <td>KPYACCAH МИНИ CHIPICAOC  KPEMOM KAKAO 50Г ga m...</td>\n      <td>0</td>\n    </tr>\n    <tr>\n      <th>19</th>\n      <td>17c9aab4-f16e-48a1-a0da-939efecd5785.jpg</td>\n      <td>— — запазиолилллилллиллллллллОлллЕЕ ципсы LAYS...</td>\n      <td>запазиолилллилллиллллллллОлллЕЕ ципсы LAYS 2...</td>\n      <td>1</td>\n    </tr>\n  </tbody>\n</table>\n</div>"
     },
     "execution_count": 9,
     "metadata": {},
     "output_type": "execute_result"
    }
   ],
   "source": [
    "goods.head(20)"
   ]
  },
  {
   "cell_type": "code",
   "execution_count": 15,
   "id": "edbab754-3a8f-4e8b-80e4-48ca6c4f20ab",
   "metadata": {
    "tags": [],
    "ExecuteTime": {
     "end_time": "2023-09-08T11:59:47.994917100Z",
     "start_time": "2023-09-08T11:59:47.888885Z"
    }
   },
   "outputs": [
    {
     "data": {
      "text/plain": "(1536, 4)"
     },
     "execution_count": 15,
     "metadata": {},
     "output_type": "execute_result"
    }
   ],
   "source": [
    "goods.to_csv(\"goods_full.csv\", index=False)\n",
    "goods.shape"
   ]
  },
  {
   "cell_type": "markdown",
   "id": "03d09d86-63f8-4167-81a7-aa7f002d916a",
   "metadata": {},
   "source": [
    "# Подготавливаем текст для классификации"
   ]
  },
  {
   "cell_type": "code",
   "execution_count": 16,
   "id": "a83ffeb9-b0cf-4366-b13f-6453ae445348",
   "metadata": {
    "ExecuteTime": {
     "end_time": "2023-09-08T11:59:56.761856100Z",
     "start_time": "2023-09-08T11:59:56.745994800Z"
    }
   },
   "outputs": [],
   "source": [
    "# Создаем функцию для обработки текста\n",
    "def preprocess(text):\n",
    "    text = text.lower()\n",
    "    text = text.replace(\"ё\", \"е\")\n",
    "    text = text.replace(\"ъ\", \"ь\")\n",
    "    text = text.replace(\"й\", \"и\")\n",
    "    text = re.sub('[^а-яА-яa-zA-Z0-9 ]', ' ', text)\n",
    "    return text"
   ]
  },
  {
   "cell_type": "code",
   "execution_count": 17,
   "id": "94f66146-41d5-419f-b67e-344ab32e936e",
   "metadata": {
    "ExecuteTime": {
     "end_time": "2023-09-08T11:59:57.393525100Z",
     "start_time": "2023-09-08T11:59:57.334616200Z"
    }
   },
   "outputs": [],
   "source": [
    "# Применяет функцию к столбцу датасета goods\n",
    "goods['text_clean'] = goods['text_clean'].apply(preprocess)"
   ]
  },
  {
   "cell_type": "code",
   "execution_count": 18,
   "id": "d6388350-d5cb-4b9c-9252-6f8f462572a3",
   "metadata": {
    "ExecuteTime": {
     "end_time": "2023-09-08T12:00:03.694737300Z",
     "start_time": "2023-09-08T12:00:03.677241800Z"
    }
   },
   "outputs": [],
   "source": [
    "# Применяет функцию к столбцу датасета goods_ours\n",
    "goods_ours['analogue_name'] = goods_ours['analogue_name'].apply(preprocess)"
   ]
  },
  {
   "cell_type": "code",
   "execution_count": 19,
   "id": "100afe90-b2db-4fa5-b069-af414cfb28f5",
   "metadata": {
    "ExecuteTime": {
     "end_time": "2023-09-08T12:00:04.645108900Z",
     "start_time": "2023-09-08T12:00:04.614202100Z"
    }
   },
   "outputs": [
    {
     "data": {
      "text/plain": "                                  file_name  \\\n0  35dee6f3-19b1-4508-9c78-81be0bbb1e89.jpg   \n1  35750d55-5ba3-4238-8048-3b0c15e58ead.jpg   \n2  cfa401c8-5596-43d3-8253-0f28415293ae.jpg   \n3  d1f8be7e-7530-4c0e-81b1-9fced74ce191.jpg   \n4  656cd957-a3c3-435a-bf6d-45423fab0e42.jpg   \n\n                                                text  \\\n0        ВИНО АПСНЫ КРАСНОЕ П/СЛ 0,75Л 5692° _x000C_   \n1  і — КОНФЕТЫ! ЖЕВ.МАМВА/МАМБА В ACCOPT.26,5/27,...   \n2  I ea  . — -н о. . —ьое ол |  Напиток ЛЮБИМАЯ K...   \n3      | 63M MK Кефир ПРОСТОКВАШИНО 710oFr | _x000C_   \n4  Ё | PEC SIOKBAWINHO КЕФИР | '}22?7.11’.?53' | ...   \n\n                                          text_clean  feature  \n0           вино апсны красное псл 075л 5692  x000c         1  \n1    конфеты жев мамвамамба в accopt 265275f  x000c         0  \n2  i ea     н о    ьое ол   напиток любимая kona ...        0  \n3         63m mk кефир простоквашино 710ofr   x000c         1  \n4  е  pec siokbawinho кефир  227 11 53   monoyy h...        1  ",
      "text/html": "<div>\n<style scoped>\n    .dataframe tbody tr th:only-of-type {\n        vertical-align: middle;\n    }\n\n    .dataframe tbody tr th {\n        vertical-align: top;\n    }\n\n    .dataframe thead th {\n        text-align: right;\n    }\n</style>\n<table border=\"1\" class=\"dataframe\">\n  <thead>\n    <tr style=\"text-align: right;\">\n      <th></th>\n      <th>file_name</th>\n      <th>text</th>\n      <th>text_clean</th>\n      <th>feature</th>\n    </tr>\n  </thead>\n  <tbody>\n    <tr>\n      <th>0</th>\n      <td>35dee6f3-19b1-4508-9c78-81be0bbb1e89.jpg</td>\n      <td>ВИНО АПСНЫ КРАСНОЕ П/СЛ 0,75Л 5692° _x000C_</td>\n      <td>вино апсны красное псл 075л 5692  x000c</td>\n      <td>1</td>\n    </tr>\n    <tr>\n      <th>1</th>\n      <td>35750d55-5ba3-4238-8048-3b0c15e58ead.jpg</td>\n      <td>і — КОНФЕТЫ! ЖЕВ.МАМВА/МАМБА В ACCOPT.26,5/27,...</td>\n      <td>конфеты жев мамвамамба в accopt 265275f  x000c</td>\n      <td>0</td>\n    </tr>\n    <tr>\n      <th>2</th>\n      <td>cfa401c8-5596-43d3-8253-0f28415293ae.jpg</td>\n      <td>I ea  . — -н о. . —ьое ол |  Напиток ЛЮБИМАЯ K...</td>\n      <td>i ea     н о    ьое ол   напиток любимая kona ...</td>\n      <td>0</td>\n    </tr>\n    <tr>\n      <th>3</th>\n      <td>d1f8be7e-7530-4c0e-81b1-9fced74ce191.jpg</td>\n      <td>| 63M MK Кефир ПРОСТОКВАШИНО 710oFr | _x000C_</td>\n      <td>63m mk кефир простоквашино 710ofr   x000c</td>\n      <td>1</td>\n    </tr>\n    <tr>\n      <th>4</th>\n      <td>656cd957-a3c3-435a-bf6d-45423fab0e42.jpg</td>\n      <td>Ё | PEC SIOKBAWINHO КЕФИР | '}22?7.11’.?53' | ...</td>\n      <td>е  pec siokbawinho кефир  227 11 53   monoyy h...</td>\n      <td>1</td>\n    </tr>\n  </tbody>\n</table>\n</div>"
     },
     "execution_count": 19,
     "metadata": {},
     "output_type": "execute_result"
    }
   ],
   "source": [
    "goods.head()"
   ]
  },
  {
   "cell_type": "code",
   "execution_count": 20,
   "id": "adaaaee6-d0af-482a-913f-061dc09ad03c",
   "metadata": {
    "ExecuteTime": {
     "end_time": "2023-09-08T12:00:21.131353Z",
     "start_time": "2023-09-08T12:00:21.115499600Z"
    }
   },
   "outputs": [
    {
     "data": {
      "text/plain": "                                       analogue_name\n0                вино red wine кр  п сл   россия  1l\n1  виски william lawson s купажированныи алк 40  ...\n2  вода питьевая святои источник природная негаз ...\n3  квас 365 днеи фильтрованныи паст  пэт  россия ...\n4        кетчуп heinz томатныи дои пак  россия  320г",
      "text/html": "<div>\n<style scoped>\n    .dataframe tbody tr th:only-of-type {\n        vertical-align: middle;\n    }\n\n    .dataframe tbody tr th {\n        vertical-align: top;\n    }\n\n    .dataframe thead th {\n        text-align: right;\n    }\n</style>\n<table border=\"1\" class=\"dataframe\">\n  <thead>\n    <tr style=\"text-align: right;\">\n      <th></th>\n      <th>analogue_name</th>\n    </tr>\n  </thead>\n  <tbody>\n    <tr>\n      <th>0</th>\n      <td>вино red wine кр  п сл   россия  1l</td>\n    </tr>\n    <tr>\n      <th>1</th>\n      <td>виски william lawson s купажированныи алк 40  ...</td>\n    </tr>\n    <tr>\n      <th>2</th>\n      <td>вода питьевая святои источник природная негаз ...</td>\n    </tr>\n    <tr>\n      <th>3</th>\n      <td>квас 365 днеи фильтрованныи паст  пэт  россия ...</td>\n    </tr>\n    <tr>\n      <th>4</th>\n      <td>кетчуп heinz томатныи дои пак  россия  320г</td>\n    </tr>\n  </tbody>\n</table>\n</div>"
     },
     "execution_count": 20,
     "metadata": {},
     "output_type": "execute_result"
    }
   ],
   "source": [
    "goods_ours.head()"
   ]
  },
  {
   "cell_type": "markdown",
   "id": "31fee999-9b1e-48d1-9158-1b8a00fac422",
   "metadata": {},
   "source": [
    "# Ищем совпадения в тексте"
   ]
  },
  {
   "cell_type": "code",
   "execution_count": 21,
   "id": "a981b5e9-1b3c-47f0-890a-caf31d7d5184",
   "metadata": {
    "tags": [],
    "ExecuteTime": {
     "end_time": "2023-09-08T12:00:44.845754500Z",
     "start_time": "2023-09-08T12:00:38.258989900Z"
    }
   },
   "outputs": [],
   "source": [
    "threshold = 55 # Порог сходства\n",
    "\n",
    "# Создаем датасет для сохранения аналогов\n",
    "results_df = pd.DataFrame(columns=[\"Product1\", \"Product2\", \"Similarity\"])\n",
    "\n",
    "for index1, row1 in goods.iterrows():\n",
    "    for index2, row2 in goods_ours.iterrows():\n",
    "        similarity = fuzz.ratio(row1[\"text_clean\"], row2[\"analogue_name\"])\n",
    "        if similarity >= threshold:\n",
    "            results_df.loc[len(results_df)] = [row1[\"text_clean\"], row2[\"analogue_name\"], similarity]\n",
    "\n",
    "# Сохраняем результаты в CSV файл\n",
    "results_df.to_csv(\"comparison_results.csv\", index=False)"
   ]
  },
  {
   "cell_type": "code",
   "execution_count": 22,
   "id": "4257d71b-8a5a-4831-a0db-9cca9275dcf2",
   "metadata": {
    "ExecuteTime": {
     "end_time": "2023-09-08T12:00:48.816383500Z",
     "start_time": "2023-09-08T12:00:48.784930700Z"
    }
   },
   "outputs": [],
   "source": [
    "# Сортировка результатов по столбцу \"Similarity\" в убывающем порядке\n",
    "sorted_results_df = results_df.sort_values(by=\"Similarity\", ascending=False)"
   ]
  },
  {
   "cell_type": "code",
   "execution_count": 23,
   "id": "e52fdb1e-a904-405c-b56b-b5f84db15a5b",
   "metadata": {
    "ExecuteTime": {
     "end_time": "2023-09-08T12:00:53.036267500Z",
     "start_time": "2023-09-08T12:00:53.004120900Z"
    }
   },
   "outputs": [
    {
     "data": {
      "text/plain": "                                             Product1  \\\n9   виски william lawsons купажированныи згода 40 ...   \n61  виски william lawsons купажированныи згода 40 ...   \n59  виски william lawsons купажированныи згода 40 ...   \n28  виски william lawsons купажированныи згода 40 ...   \n76  виски william lawsons купажированныи згода 40 ...   \n27  виски william lawsons купажированныи згода 40 ...   \n25  buickm william lawsons  нупажированныи згода 4...   \n73          шок батончик snickers super 8095   x000c    \n0                 кетчуп heinz томатными   ae  x000c    \n18   вода питьевая святои источник газ пб 15л  x000c    \n\n                                             Product2  Similarity  \n9   виски william lawson s купажированныи алк 40  ...          79  \n61  виски william lawson s купажированныи алк 40  ...          79  \n59  виски william lawson s купажированныи алк 40  ...          79  \n28  виски william lawson s купажированныи алк 40  ...          74  \n76  виски william lawson s купажированныи алк 40  ...          73  \n27  виски william lawson s купажированныи алк 40  ...          73  \n25  виски william lawson s купажированныи алк 40  ...          69  \n73  шоколадные батончики snickers super  россия  80 г          69  \n0         кетчуп heinz томатныи дои пак  россия  320г          69  \n18  вода питьевая святои источник природная негаз ...          68  ",
      "text/html": "<div>\n<style scoped>\n    .dataframe tbody tr th:only-of-type {\n        vertical-align: middle;\n    }\n\n    .dataframe tbody tr th {\n        vertical-align: top;\n    }\n\n    .dataframe thead th {\n        text-align: right;\n    }\n</style>\n<table border=\"1\" class=\"dataframe\">\n  <thead>\n    <tr style=\"text-align: right;\">\n      <th></th>\n      <th>Product1</th>\n      <th>Product2</th>\n      <th>Similarity</th>\n    </tr>\n  </thead>\n  <tbody>\n    <tr>\n      <th>9</th>\n      <td>виски william lawsons купажированныи згода 40 ...</td>\n      <td>виски william lawson s купажированныи алк 40  ...</td>\n      <td>79</td>\n    </tr>\n    <tr>\n      <th>61</th>\n      <td>виски william lawsons купажированныи згода 40 ...</td>\n      <td>виски william lawson s купажированныи алк 40  ...</td>\n      <td>79</td>\n    </tr>\n    <tr>\n      <th>59</th>\n      <td>виски william lawsons купажированныи згода 40 ...</td>\n      <td>виски william lawson s купажированныи алк 40  ...</td>\n      <td>79</td>\n    </tr>\n    <tr>\n      <th>28</th>\n      <td>виски william lawsons купажированныи згода 40 ...</td>\n      <td>виски william lawson s купажированныи алк 40  ...</td>\n      <td>74</td>\n    </tr>\n    <tr>\n      <th>76</th>\n      <td>виски william lawsons купажированныи згода 40 ...</td>\n      <td>виски william lawson s купажированныи алк 40  ...</td>\n      <td>73</td>\n    </tr>\n    <tr>\n      <th>27</th>\n      <td>виски william lawsons купажированныи згода 40 ...</td>\n      <td>виски william lawson s купажированныи алк 40  ...</td>\n      <td>73</td>\n    </tr>\n    <tr>\n      <th>25</th>\n      <td>buickm william lawsons  нупажированныи згода 4...</td>\n      <td>виски william lawson s купажированныи алк 40  ...</td>\n      <td>69</td>\n    </tr>\n    <tr>\n      <th>73</th>\n      <td>шок батончик snickers super 8095   x000c</td>\n      <td>шоколадные батончики snickers super  россия  80 г</td>\n      <td>69</td>\n    </tr>\n    <tr>\n      <th>0</th>\n      <td>кетчуп heinz томатными   ae  x000c</td>\n      <td>кетчуп heinz томатныи дои пак  россия  320г</td>\n      <td>69</td>\n    </tr>\n    <tr>\n      <th>18</th>\n      <td>вода питьевая святои источник газ пб 15л  x000c</td>\n      <td>вода питьевая святои источник природная негаз ...</td>\n      <td>68</td>\n    </tr>\n  </tbody>\n</table>\n</div>"
     },
     "execution_count": 23,
     "metadata": {},
     "output_type": "execute_result"
    }
   ],
   "source": [
    "sorted_results_df.head(10)"
   ]
  },
  {
   "cell_type": "code",
   "execution_count": 31,
   "outputs": [
    {
     "data": {
      "text/plain": "                                             Product1  \\\n9   виски william lawsons купажированныи згода 40 ...   \n61  виски william lawsons купажированныи згода 40 ...   \n59  виски william lawsons купажированныи згода 40 ...   \n28  виски william lawsons купажированныи згода 40 ...   \n76  виски william lawsons купажированныи згода 40 ...   \n..                                                ...   \n36   бзмж сметана   простоквашино аи  300г  15 oo ...   \n52  старыи мельник из 7очонкд пиво свет мяг mact43...   \n63                   напиток добрьыи кола tt   x000c    \n54   пиво свет балтика marko  7 алк 47 сб 0447 wad...   \n71       б чипсы сау 8 сметана и зелень 226г   x000c    \n\n                                             Product2  Similarity  \n9   виски william lawson s купажированныи алк 40  ...          79  \n61  виски william lawson s купажированныи алк 40  ...          79  \n59  виски william lawson s купажированныи алк 40  ...          79  \n28  виски william lawson s купажированныи алк 40  ...          74  \n76  виски william lawson s купажированныи алк 40  ...          73  \n..                                                ...         ...  \n36    сметана простоквашино 15  без змж  россия  300г          55  \n52  пиво старыи мельник мягкое из бочонка светлое ...          55  \n63  напиток безалкогольныи добрыи кола с газ пэт  ...          55  \n54  пиво светлое балтика классическое n3 паст  алк...          55  \n71            чипсы lay s сметана и лук  россия  225г          55  \n\n[82 rows x 3 columns]",
      "text/html": "<div>\n<style scoped>\n    .dataframe tbody tr th:only-of-type {\n        vertical-align: middle;\n    }\n\n    .dataframe tbody tr th {\n        vertical-align: top;\n    }\n\n    .dataframe thead th {\n        text-align: right;\n    }\n</style>\n<table border=\"1\" class=\"dataframe\">\n  <thead>\n    <tr style=\"text-align: right;\">\n      <th></th>\n      <th>Product1</th>\n      <th>Product2</th>\n      <th>Similarity</th>\n    </tr>\n  </thead>\n  <tbody>\n    <tr>\n      <th>9</th>\n      <td>виски william lawsons купажированныи згода 40 ...</td>\n      <td>виски william lawson s купажированныи алк 40  ...</td>\n      <td>79</td>\n    </tr>\n    <tr>\n      <th>61</th>\n      <td>виски william lawsons купажированныи згода 40 ...</td>\n      <td>виски william lawson s купажированныи алк 40  ...</td>\n      <td>79</td>\n    </tr>\n    <tr>\n      <th>59</th>\n      <td>виски william lawsons купажированныи згода 40 ...</td>\n      <td>виски william lawson s купажированныи алк 40  ...</td>\n      <td>79</td>\n    </tr>\n    <tr>\n      <th>28</th>\n      <td>виски william lawsons купажированныи згода 40 ...</td>\n      <td>виски william lawson s купажированныи алк 40  ...</td>\n      <td>74</td>\n    </tr>\n    <tr>\n      <th>76</th>\n      <td>виски william lawsons купажированныи згода 40 ...</td>\n      <td>виски william lawson s купажированныи алк 40  ...</td>\n      <td>73</td>\n    </tr>\n    <tr>\n      <th>...</th>\n      <td>...</td>\n      <td>...</td>\n      <td>...</td>\n    </tr>\n    <tr>\n      <th>36</th>\n      <td>бзмж сметана   простоквашино аи  300г  15 oo ...</td>\n      <td>сметана простоквашино 15  без змж  россия  300г</td>\n      <td>55</td>\n    </tr>\n    <tr>\n      <th>52</th>\n      <td>старыи мельник из 7очонкд пиво свет мяг mact43...</td>\n      <td>пиво старыи мельник мягкое из бочонка светлое ...</td>\n      <td>55</td>\n    </tr>\n    <tr>\n      <th>63</th>\n      <td>напиток добрьыи кола tt   x000c</td>\n      <td>напиток безалкогольныи добрыи кола с газ пэт  ...</td>\n      <td>55</td>\n    </tr>\n    <tr>\n      <th>54</th>\n      <td>пиво свет балтика marko  7 алк 47 сб 0447 wad...</td>\n      <td>пиво светлое балтика классическое n3 паст  алк...</td>\n      <td>55</td>\n    </tr>\n    <tr>\n      <th>71</th>\n      <td>б чипсы сау 8 сметана и зелень 226г   x000c</td>\n      <td>чипсы lay s сметана и лук  россия  225г</td>\n      <td>55</td>\n    </tr>\n  </tbody>\n</table>\n<p>82 rows × 3 columns</p>\n</div>"
     },
     "execution_count": 31,
     "metadata": {},
     "output_type": "execute_result"
    }
   ],
   "source": [
    "sorted_results_df"
   ],
   "metadata": {
    "collapsed": false,
    "ExecuteTime": {
     "end_time": "2023-09-08T12:26:48.802014Z",
     "start_time": "2023-09-08T12:26:48.770602800Z"
    }
   }
  },
  {
   "cell_type": "code",
   "execution_count": 24,
   "id": "e30c515c-d106-4336-ab86-22e048fab3be",
   "metadata": {
    "tags": [],
    "ExecuteTime": {
     "end_time": "2023-09-08T12:00:56.301935300Z",
     "start_time": "2023-09-08T12:00:56.285989400Z"
    }
   },
   "outputs": [
    {
     "data": {
      "text/plain": "Product1      виски william lawsons купажированныи згода 40 ...\nProduct2      виски william lawson s купажированныи алк 40  ...\nSimilarity                                                   79\nName: 9, dtype: object"
     },
     "execution_count": 24,
     "metadata": {},
     "output_type": "execute_result"
    }
   ],
   "source": [
    "sorted_results_df.iloc[0]"
   ]
  },
  {
   "cell_type": "code",
   "execution_count": 25,
   "id": "e294deaa-ce88-4362-8872-55c36501afae",
   "metadata": {
    "tags": [],
    "ExecuteTime": {
     "end_time": "2023-09-08T12:01:03.593715400Z",
     "start_time": "2023-09-08T12:01:03.578001200Z"
    }
   },
   "outputs": [
    {
     "data": {
      "text/plain": "Product1      buickm william lawsons  нупажированныи згода 4...\nProduct2      виски william lawson s купажированныи алк 40  ...\nSimilarity                                                   69\nName: 25, dtype: object"
     },
     "execution_count": 25,
     "metadata": {},
     "output_type": "execute_result"
    }
   ],
   "source": [
    "sorted_results_df.iloc[6]"
   ]
  },
  {
   "cell_type": "code",
   "execution_count": 26,
   "id": "647edc29-dc3a-4ab3-beba-3129c0648412",
   "metadata": {
    "tags": [],
    "ExecuteTime": {
     "end_time": "2023-09-08T12:01:07.007912Z",
     "start_time": "2023-09-08T12:01:06.986618200Z"
    }
   },
   "outputs": [
    {
     "data": {
      "text/plain": "Product1       вода питьевая святои источник газ пб 15л  x000c \nProduct2      вода питьевая святои источник природная негаз ...\nSimilarity                                                   68\nName: 18, dtype: object"
     },
     "execution_count": 26,
     "metadata": {},
     "output_type": "execute_result"
    }
   ],
   "source": [
    "sorted_results_df.iloc[9]"
   ]
  },
  {
   "cell_type": "code",
   "execution_count": 27,
   "id": "78dde215-3e15-4ca6-b2ee-a1ed6a30dbc1",
   "metadata": {
    "tags": [],
    "ExecuteTime": {
     "end_time": "2023-09-08T12:01:08.683482600Z",
     "start_time": "2023-09-08T12:01:08.667541600Z"
    }
   },
   "outputs": [
    {
     "data": {
      "text/plain": "Product1         г шок батончик snickers и super 8095 м  x000c \nProduct2      шоколадные батончики snickers super  россия  80 г\nSimilarity                                                   65\nName: 48, dtype: object"
     },
     "execution_count": 27,
     "metadata": {},
     "output_type": "execute_result"
    }
   ],
   "source": [
    "sorted_results_df.iloc[21]"
   ]
  },
  {
   "cell_type": "code",
   "execution_count": 28,
   "id": "6b73d901-0de4-46a2-82dc-de1a05b74bd2",
   "metadata": {
    "tags": [],
    "ExecuteTime": {
     "end_time": "2023-09-08T12:01:12.366153200Z",
     "start_time": "2023-09-08T12:01:12.342358900Z"
    }
   },
   "outputs": [
    {
     "data": {
      "text/plain": "Product1      пиво балтика 3 классическ  св алк 4 8 жб 0 45л...\nProduct2      пиво светлое балтика классическое n3 паст  алк...\nSimilarity                                                   68\nName: 64, dtype: object"
     },
     "execution_count": 28,
     "metadata": {},
     "output_type": "execute_result"
    }
   ],
   "source": [
    "sorted_results_df.iloc[14]"
   ]
  },
  {
   "cell_type": "code",
   "execution_count": 29,
   "id": "da4d5d42-6cfa-4a8e-9b96-465ac8557903",
   "metadata": {
    "tags": [],
    "ExecuteTime": {
     "end_time": "2023-09-08T12:01:13.410756400Z",
     "start_time": "2023-09-08T12:01:13.395121800Z"
    }
   },
   "outputs": [
    {
     "name": "stdout",
     "output_type": "stream",
     "text": [
      "<class 'pandas.core.frame.DataFrame'>\n",
      "Index: 82 entries, 9 to 71\n",
      "Data columns (total 3 columns):\n",
      " #   Column      Non-Null Count  Dtype \n",
      "---  ------      --------------  ----- \n",
      " 0   Product1    82 non-null     object\n",
      " 1   Product2    82 non-null     object\n",
      " 2   Similarity  82 non-null     int64 \n",
      "dtypes: int64(1), object(2)\n",
      "memory usage: 2.6+ KB\n"
     ]
    }
   ],
   "source": [
    "sorted_results_df.info()"
   ]
  },
  {
   "cell_type": "code",
   "execution_count": null,
   "id": "5f3e0f0f-db78-43b8-8f30-667df0e828c4",
   "metadata": {},
   "outputs": [],
   "source": []
  }
 ],
 "metadata": {
  "kernelspec": {
   "display_name": "Python 3 (ipykernel)",
   "language": "python",
   "name": "python3"
  },
  "language_info": {
   "codemirror_mode": {
    "name": "ipython",
    "version": 3
   },
   "file_extension": ".py",
   "mimetype": "text/x-python",
   "name": "python",
   "nbconvert_exporter": "python",
   "pygments_lexer": "ipython3",
   "version": "3.9.17"
  }
 },
 "nbformat": 4,
 "nbformat_minor": 5
}
