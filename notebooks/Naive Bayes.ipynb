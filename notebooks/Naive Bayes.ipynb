{
 "cells": [
  {
   "cell_type": "markdown",
   "id": "02025590-2633-4145-913a-982481d3e88f",
   "metadata": {
    "tags": []
   },
   "source": [
    "# Imports"
   ]
  },
  {
   "cell_type": "code",
   "execution_count": 1,
   "id": "3830f031-aab8-45fd-8527-78d101ffc66c",
   "metadata": {
    "ExecuteTime": {
     "end_time": "2023-09-08T12:48:47.482719800Z",
     "start_time": "2023-09-08T12:48:46.671739100Z"
    }
   },
   "outputs": [],
   "source": [
    "import pandas as pd\n",
    "import re\n",
    "from sklearn.model_selection import train_test_split\n",
    "from sklearn.feature_extraction.text import CountVectorizer\n",
    "from sklearn.feature_extraction.text import TfidfVectorizer\n",
    "from sklearn.naive_bayes import MultinomialNB\n",
    "from sklearn.metrics import accuracy_score"
   ]
  },
  {
   "cell_type": "code",
   "execution_count": 2,
   "id": "d67bfef4-8540-4f60-a01a-af9fe87860c0",
   "metadata": {
    "ExecuteTime": {
     "end_time": "2023-09-08T12:48:48.085256Z",
     "start_time": "2023-09-08T12:48:48.069599400Z"
    }
   },
   "outputs": [],
   "source": [
    "# Загрузка размеченных данных (пример)\n",
    "goods = pd.read_csv('goods_all.csv')\n",
    "\n",
    "# Загрузка данных с товарами для сравнения (пример)\n",
    "goods_ours = pd.read_csv('datasets/napoleon_it_retail/itmo_meta.csv', index_col='Unnamed: 0')"
   ]
  },
  {
   "cell_type": "code",
   "execution_count": 3,
   "id": "0b2d6a18-c4f5-4b8a-8119-10e0da847d67",
   "metadata": {
    "tags": [],
    "ExecuteTime": {
     "end_time": "2023-09-08T12:48:49.473603800Z",
     "start_time": "2023-09-08T12:48:49.432782800Z"
    }
   },
   "outputs": [
    {
     "data": {
      "text/plain": "                                  file_name  \\\n0  0185c837-bf4a-43c3-985c-2e772651b5b0.jpg   \n1  5d880e3b-dbf3-4ae9-82b1-3429dc8e1bad.jpg   \n2  3d9fe58a-784e-4952-892c-8bd3e4323d99.jpg   \n3  ab2adfca-123c-4a04-b9a7-30599f1cb138.jpg   \n4  7a3f28b0-34e8-4f24-8e61-0412a94eb59e.jpg   \n\n                                          text_clean  feature  \n0   CAXAPNECOK БЕЛЫЙ a ФАСОВАННЫЙ 1КГ ГОСТ  Lis _...        1  \n1   озпааниилллиилииЕ ДОБРЫЙ НАПИТОК Б А СИЛ ГАЗ ...        0  \n2  a ae ADREMALINE BUSH НАПИТОК SHEPTET  МАНГО 04...        1  \n3    ча     у Напиток ХУГАРДЕН БЕЛОЕ  if 0. 44n _...        0  \n4        ERATOR ИСТОЧНИК ПИТЬЕВАЯ ВОДА НЕГАЗ _x000C_        1  ",
      "text/html": "<div>\n<style scoped>\n    .dataframe tbody tr th:only-of-type {\n        vertical-align: middle;\n    }\n\n    .dataframe tbody tr th {\n        vertical-align: top;\n    }\n\n    .dataframe thead th {\n        text-align: right;\n    }\n</style>\n<table border=\"1\" class=\"dataframe\">\n  <thead>\n    <tr style=\"text-align: right;\">\n      <th></th>\n      <th>file_name</th>\n      <th>text_clean</th>\n      <th>feature</th>\n    </tr>\n  </thead>\n  <tbody>\n    <tr>\n      <th>0</th>\n      <td>0185c837-bf4a-43c3-985c-2e772651b5b0.jpg</td>\n      <td>CAXAPNECOK БЕЛЫЙ a ФАСОВАННЫЙ 1КГ ГОСТ  Lis _...</td>\n      <td>1</td>\n    </tr>\n    <tr>\n      <th>1</th>\n      <td>5d880e3b-dbf3-4ae9-82b1-3429dc8e1bad.jpg</td>\n      <td>озпааниилллиилииЕ ДОБРЫЙ НАПИТОК Б А СИЛ ГАЗ ...</td>\n      <td>0</td>\n    </tr>\n    <tr>\n      <th>2</th>\n      <td>3d9fe58a-784e-4952-892c-8bd3e4323d99.jpg</td>\n      <td>a ae ADREMALINE BUSH НАПИТОК SHEPTET  МАНГО 04...</td>\n      <td>1</td>\n    </tr>\n    <tr>\n      <th>3</th>\n      <td>ab2adfca-123c-4a04-b9a7-30599f1cb138.jpg</td>\n      <td>ча     у Напиток ХУГАРДЕН БЕЛОЕ  if 0. 44n _...</td>\n      <td>0</td>\n    </tr>\n    <tr>\n      <th>4</th>\n      <td>7a3f28b0-34e8-4f24-8e61-0412a94eb59e.jpg</td>\n      <td>ERATOR ИСТОЧНИК ПИТЬЕВАЯ ВОДА НЕГАЗ _x000C_</td>\n      <td>1</td>\n    </tr>\n  </tbody>\n</table>\n</div>"
     },
     "execution_count": 3,
     "metadata": {},
     "output_type": "execute_result"
    }
   ],
   "source": [
    "goods = goods.drop('text', axis=1)\n",
    "goods.head()"
   ]
  },
  {
   "cell_type": "code",
   "execution_count": 4,
   "id": "6a085294-42ed-4f34-a237-47bb6b8ed127",
   "metadata": {
    "tags": [],
    "ExecuteTime": {
     "end_time": "2023-09-08T12:48:50.333620800Z",
     "start_time": "2023-09-08T12:48:50.317986Z"
    }
   },
   "outputs": [
    {
     "data": {
      "text/plain": "                                       analogue_name\n0                Вино RED WINE кр. п/сл. (Россия) 1L\n1  Виски WILLIAM LAWSON'S купажированный алк.40% ...\n2  Вода питьевая СВЯТОЙ ИСТОЧНИК природная негаз....\n3  Квас 365 ДНЕЙ фильтрованный паст. ПЭТ (Россия)...\n4        Кетчуп HEINZ томатный дой-пак (Россия) 320г",
      "text/html": "<div>\n<style scoped>\n    .dataframe tbody tr th:only-of-type {\n        vertical-align: middle;\n    }\n\n    .dataframe tbody tr th {\n        vertical-align: top;\n    }\n\n    .dataframe thead th {\n        text-align: right;\n    }\n</style>\n<table border=\"1\" class=\"dataframe\">\n  <thead>\n    <tr style=\"text-align: right;\">\n      <th></th>\n      <th>analogue_name</th>\n    </tr>\n  </thead>\n  <tbody>\n    <tr>\n      <th>0</th>\n      <td>Вино RED WINE кр. п/сл. (Россия) 1L</td>\n    </tr>\n    <tr>\n      <th>1</th>\n      <td>Виски WILLIAM LAWSON'S купажированный алк.40% ...</td>\n    </tr>\n    <tr>\n      <th>2</th>\n      <td>Вода питьевая СВЯТОЙ ИСТОЧНИК природная негаз....</td>\n    </tr>\n    <tr>\n      <th>3</th>\n      <td>Квас 365 ДНЕЙ фильтрованный паст. ПЭТ (Россия)...</td>\n    </tr>\n    <tr>\n      <th>4</th>\n      <td>Кетчуп HEINZ томатный дой-пак (Россия) 320г</td>\n    </tr>\n  </tbody>\n</table>\n</div>"
     },
     "execution_count": 4,
     "metadata": {},
     "output_type": "execute_result"
    }
   ],
   "source": [
    "goods_ours.head()"
   ]
  },
  {
   "cell_type": "code",
   "execution_count": 5,
   "id": "39ba2fee-ba7b-4e28-a0e9-7a4705f233a1",
   "metadata": {
    "tags": [],
    "ExecuteTime": {
     "end_time": "2023-09-08T12:48:51.528255700Z",
     "start_time": "2023-09-08T12:48:51.512396400Z"
    }
   },
   "outputs": [],
   "source": [
    "# Создаем функцию для обработки текста\n",
    "def preprocess(text):\n",
    "    text = text.lower()\n",
    "    text = text.replace('ё', 'е')\n",
    "    text = text.replace('ъ', 'ь')\n",
    "    text = text.replace('й', 'и')\n",
    "    text = re.sub('[^а-яА-яa-zA-Z0-9 ]', ' ', text)\n",
    "    return text"
   ]
  },
  {
   "cell_type": "code",
   "execution_count": 6,
   "id": "9173e5be-532a-4efa-b2b8-65fc337d46f8",
   "metadata": {
    "tags": [],
    "ExecuteTime": {
     "end_time": "2023-09-08T12:48:52.267135100Z",
     "start_time": "2023-09-08T12:48:52.235400200Z"
    }
   },
   "outputs": [],
   "source": [
    "# Применяет функцию к столбцу датасета goods\n",
    "goods['text_clean'] = goods['text_clean'].apply(preprocess)"
   ]
  },
  {
   "cell_type": "code",
   "execution_count": 7,
   "id": "3349716a-eecc-47db-b9dd-dcbe6744c2dd",
   "metadata": {
    "tags": [],
    "ExecuteTime": {
     "end_time": "2023-09-08T12:48:52.899686100Z",
     "start_time": "2023-09-08T12:48:52.852792900Z"
    }
   },
   "outputs": [
    {
     "data": {
      "text/plain": "                                  file_name  \\\n0  0185c837-bf4a-43c3-985c-2e772651b5b0.jpg   \n1  5d880e3b-dbf3-4ae9-82b1-3429dc8e1bad.jpg   \n2  3d9fe58a-784e-4952-892c-8bd3e4323d99.jpg   \n3  ab2adfca-123c-4a04-b9a7-30599f1cb138.jpg   \n4  7a3f28b0-34e8-4f24-8e61-0412a94eb59e.jpg   \n\n                                          text_clean  feature  \n0   caxapnecok белыи a фасованныи 1кг гост  lis  ...        1  \n1   озпааниилллиилиие добрыи напиток б а сил газ ...        0  \n2  a ae adremaline bush напиток sheptet  манго 04...        1  \n3    ча     у напиток хугарден белое  if 0  44n  ...        0  \n4        erator источник питьевая вода негаз  x000c         1  ",
      "text/html": "<div>\n<style scoped>\n    .dataframe tbody tr th:only-of-type {\n        vertical-align: middle;\n    }\n\n    .dataframe tbody tr th {\n        vertical-align: top;\n    }\n\n    .dataframe thead th {\n        text-align: right;\n    }\n</style>\n<table border=\"1\" class=\"dataframe\">\n  <thead>\n    <tr style=\"text-align: right;\">\n      <th></th>\n      <th>file_name</th>\n      <th>text_clean</th>\n      <th>feature</th>\n    </tr>\n  </thead>\n  <tbody>\n    <tr>\n      <th>0</th>\n      <td>0185c837-bf4a-43c3-985c-2e772651b5b0.jpg</td>\n      <td>caxapnecok белыи a фасованныи 1кг гост  lis  ...</td>\n      <td>1</td>\n    </tr>\n    <tr>\n      <th>1</th>\n      <td>5d880e3b-dbf3-4ae9-82b1-3429dc8e1bad.jpg</td>\n      <td>озпааниилллиилиие добрыи напиток б а сил газ ...</td>\n      <td>0</td>\n    </tr>\n    <tr>\n      <th>2</th>\n      <td>3d9fe58a-784e-4952-892c-8bd3e4323d99.jpg</td>\n      <td>a ae adremaline bush напиток sheptet  манго 04...</td>\n      <td>1</td>\n    </tr>\n    <tr>\n      <th>3</th>\n      <td>ab2adfca-123c-4a04-b9a7-30599f1cb138.jpg</td>\n      <td>ча     у напиток хугарден белое  if 0  44n  ...</td>\n      <td>0</td>\n    </tr>\n    <tr>\n      <th>4</th>\n      <td>7a3f28b0-34e8-4f24-8e61-0412a94eb59e.jpg</td>\n      <td>erator источник питьевая вода негаз  x000c</td>\n      <td>1</td>\n    </tr>\n  </tbody>\n</table>\n</div>"
     },
     "execution_count": 7,
     "metadata": {},
     "output_type": "execute_result"
    }
   ],
   "source": [
    "goods.head()"
   ]
  },
  {
   "cell_type": "code",
   "execution_count": 8,
   "id": "6f5726db-c467-48cd-8c10-dc99760119d0",
   "metadata": {
    "tags": [],
    "ExecuteTime": {
     "end_time": "2023-09-08T12:48:53.854830900Z",
     "start_time": "2023-09-08T12:48:53.838153600Z"
    }
   },
   "outputs": [],
   "source": [
    "# Применяем функцию к столбцу датасета goods_ours\n",
    "goods_ours['analogue_name'] = goods_ours['analogue_name'].apply(preprocess)"
   ]
  },
  {
   "cell_type": "code",
   "execution_count": 9,
   "id": "e0237ad3-9d49-4c54-a440-38af451b75aa",
   "metadata": {
    "tags": [],
    "ExecuteTime": {
     "end_time": "2023-09-08T12:48:54.691745200Z",
     "start_time": "2023-09-08T12:48:54.679021200Z"
    }
   },
   "outputs": [
    {
     "data": {
      "text/plain": "                                       analogue_name\n0                вино red wine кр  п сл   россия  1l\n1  виски william lawson s купажированныи алк 40  ...\n2  вода питьевая святои источник природная негаз ...\n3  квас 365 днеи фильтрованныи паст  пэт  россия ...\n4        кетчуп heinz томатныи дои пак  россия  320г",
      "text/html": "<div>\n<style scoped>\n    .dataframe tbody tr th:only-of-type {\n        vertical-align: middle;\n    }\n\n    .dataframe tbody tr th {\n        vertical-align: top;\n    }\n\n    .dataframe thead th {\n        text-align: right;\n    }\n</style>\n<table border=\"1\" class=\"dataframe\">\n  <thead>\n    <tr style=\"text-align: right;\">\n      <th></th>\n      <th>analogue_name</th>\n    </tr>\n  </thead>\n  <tbody>\n    <tr>\n      <th>0</th>\n      <td>вино red wine кр  п сл   россия  1l</td>\n    </tr>\n    <tr>\n      <th>1</th>\n      <td>виски william lawson s купажированныи алк 40  ...</td>\n    </tr>\n    <tr>\n      <th>2</th>\n      <td>вода питьевая святои источник природная негаз ...</td>\n    </tr>\n    <tr>\n      <th>3</th>\n      <td>квас 365 днеи фильтрованныи паст  пэт  россия ...</td>\n    </tr>\n    <tr>\n      <th>4</th>\n      <td>кетчуп heinz томатныи дои пак  россия  320г</td>\n    </tr>\n  </tbody>\n</table>\n</div>"
     },
     "execution_count": 9,
     "metadata": {},
     "output_type": "execute_result"
    }
   ],
   "source": [
    "goods_ours.head()"
   ]
  },
  {
   "cell_type": "code",
   "execution_count": 10,
   "id": "959d5459-4118-438d-a4ab-5e98dd0865ca",
   "metadata": {
    "tags": [],
    "ExecuteTime": {
     "end_time": "2023-09-08T12:48:56.169049Z",
     "start_time": "2023-09-08T12:48:56.158264500Z"
    }
   },
   "outputs": [],
   "source": [
    "# Список наименований товаров из goods_ours для сравнения\n",
    "comparison_data = goods_ours['analogue_name'].tolist()"
   ]
  },
  {
   "cell_type": "code",
   "execution_count": 11,
   "id": "186fa8a0-bf5d-42cd-8d2d-f3824ea0145c",
   "metadata": {
    "ExecuteTime": {
     "end_time": "2023-09-08T12:48:56.863121Z",
     "start_time": "2023-09-08T12:48:56.850953900Z"
    }
   },
   "outputs": [],
   "source": [
    "# Разделение данных на обучающий и тестовый наборы\n",
    "X_train, X_test, y_train, y_test = train_test_split(goods['text_clean'], goods['feature'], test_size=0.2, random_state=73)"
   ]
  },
  {
   "cell_type": "code",
   "execution_count": 12,
   "id": "1254fa44-fc5c-4b2a-8323-47fcb7d94fa8",
   "metadata": {
    "ExecuteTime": {
     "end_time": "2023-09-08T12:48:57.495987700Z",
     "start_time": "2023-09-08T12:48:57.423221800Z"
    }
   },
   "outputs": [],
   "source": [
    "# Преобразование текстовых данных в числовые признаки с помощью TF-IDF\n",
    "vectorizer = TfidfVectorizer()\n",
    "X_train_vectorized = vectorizer.fit_transform(X_train)\n",
    "X_test_vectorized = vectorizer.transform(X_test)"
   ]
  },
  {
   "cell_type": "code",
   "execution_count": 13,
   "id": "73d8cda7-f5b3-4a52-9730-b2b2c77af99f",
   "metadata": {
    "ExecuteTime": {
     "end_time": "2023-09-08T12:48:58.297837500Z",
     "start_time": "2023-09-08T12:48:58.282213Z"
    }
   },
   "outputs": [
    {
     "data": {
      "text/plain": "MultinomialNB()",
      "text/html": "<style>#sk-container-id-1 {color: black;}#sk-container-id-1 pre{padding: 0;}#sk-container-id-1 div.sk-toggleable {background-color: white;}#sk-container-id-1 label.sk-toggleable__label {cursor: pointer;display: block;width: 100%;margin-bottom: 0;padding: 0.3em;box-sizing: border-box;text-align: center;}#sk-container-id-1 label.sk-toggleable__label-arrow:before {content: \"▸\";float: left;margin-right: 0.25em;color: #696969;}#sk-container-id-1 label.sk-toggleable__label-arrow:hover:before {color: black;}#sk-container-id-1 div.sk-estimator:hover label.sk-toggleable__label-arrow:before {color: black;}#sk-container-id-1 div.sk-toggleable__content {max-height: 0;max-width: 0;overflow: hidden;text-align: left;background-color: #f0f8ff;}#sk-container-id-1 div.sk-toggleable__content pre {margin: 0.2em;color: black;border-radius: 0.25em;background-color: #f0f8ff;}#sk-container-id-1 input.sk-toggleable__control:checked~div.sk-toggleable__content {max-height: 200px;max-width: 100%;overflow: auto;}#sk-container-id-1 input.sk-toggleable__control:checked~label.sk-toggleable__label-arrow:before {content: \"▾\";}#sk-container-id-1 div.sk-estimator input.sk-toggleable__control:checked~label.sk-toggleable__label {background-color: #d4ebff;}#sk-container-id-1 div.sk-label input.sk-toggleable__control:checked~label.sk-toggleable__label {background-color: #d4ebff;}#sk-container-id-1 input.sk-hidden--visually {border: 0;clip: rect(1px 1px 1px 1px);clip: rect(1px, 1px, 1px, 1px);height: 1px;margin: -1px;overflow: hidden;padding: 0;position: absolute;width: 1px;}#sk-container-id-1 div.sk-estimator {font-family: monospace;background-color: #f0f8ff;border: 1px dotted black;border-radius: 0.25em;box-sizing: border-box;margin-bottom: 0.5em;}#sk-container-id-1 div.sk-estimator:hover {background-color: #d4ebff;}#sk-container-id-1 div.sk-parallel-item::after {content: \"\";width: 100%;border-bottom: 1px solid gray;flex-grow: 1;}#sk-container-id-1 div.sk-label:hover label.sk-toggleable__label {background-color: #d4ebff;}#sk-container-id-1 div.sk-serial::before {content: \"\";position: absolute;border-left: 1px solid gray;box-sizing: border-box;top: 0;bottom: 0;left: 50%;z-index: 0;}#sk-container-id-1 div.sk-serial {display: flex;flex-direction: column;align-items: center;background-color: white;padding-right: 0.2em;padding-left: 0.2em;position: relative;}#sk-container-id-1 div.sk-item {position: relative;z-index: 1;}#sk-container-id-1 div.sk-parallel {display: flex;align-items: stretch;justify-content: center;background-color: white;position: relative;}#sk-container-id-1 div.sk-item::before, #sk-container-id-1 div.sk-parallel-item::before {content: \"\";position: absolute;border-left: 1px solid gray;box-sizing: border-box;top: 0;bottom: 0;left: 50%;z-index: -1;}#sk-container-id-1 div.sk-parallel-item {display: flex;flex-direction: column;z-index: 1;position: relative;background-color: white;}#sk-container-id-1 div.sk-parallel-item:first-child::after {align-self: flex-end;width: 50%;}#sk-container-id-1 div.sk-parallel-item:last-child::after {align-self: flex-start;width: 50%;}#sk-container-id-1 div.sk-parallel-item:only-child::after {width: 0;}#sk-container-id-1 div.sk-dashed-wrapped {border: 1px dashed gray;margin: 0 0.4em 0.5em 0.4em;box-sizing: border-box;padding-bottom: 0.4em;background-color: white;}#sk-container-id-1 div.sk-label label {font-family: monospace;font-weight: bold;display: inline-block;line-height: 1.2em;}#sk-container-id-1 div.sk-label-container {text-align: center;}#sk-container-id-1 div.sk-container {/* jupyter's `normalize.less` sets `[hidden] { display: none; }` but bootstrap.min.css set `[hidden] { display: none !important; }` so we also need the `!important` here to be able to override the default hidden behavior on the sphinx rendered scikit-learn.org. See: https://github.com/scikit-learn/scikit-learn/issues/21755 */display: inline-block !important;position: relative;}#sk-container-id-1 div.sk-text-repr-fallback {display: none;}</style><div id=\"sk-container-id-1\" class=\"sk-top-container\"><div class=\"sk-text-repr-fallback\"><pre>MultinomialNB()</pre><b>In a Jupyter environment, please rerun this cell to show the HTML representation or trust the notebook. <br />On GitHub, the HTML representation is unable to render, please try loading this page with nbviewer.org.</b></div><div class=\"sk-container\" hidden><div class=\"sk-item\"><div class=\"sk-estimator sk-toggleable\"><input class=\"sk-toggleable__control sk-hidden--visually\" id=\"sk-estimator-id-1\" type=\"checkbox\" checked><label for=\"sk-estimator-id-1\" class=\"sk-toggleable__label sk-toggleable__label-arrow\">MultinomialNB</label><div class=\"sk-toggleable__content\"><pre>MultinomialNB()</pre></div></div></div></div></div>"
     },
     "execution_count": 13,
     "metadata": {},
     "output_type": "execute_result"
    }
   ],
   "source": [
    "# Обучение классификатора\n",
    "classifier = MultinomialNB()\n",
    "classifier.fit(X_train_vectorized, y_train)"
   ]
  },
  {
   "cell_type": "code",
   "execution_count": 14,
   "id": "eec748d3-ae9d-451c-96f6-8a50ee54ee8f",
   "metadata": {
    "tags": [],
    "ExecuteTime": {
     "end_time": "2023-09-08T12:48:59.044263800Z",
     "start_time": "2023-09-08T12:48:59.028628900Z"
    }
   },
   "outputs": [],
   "source": [
    "# Прогнозирование\n",
    "y_pred = classifier.predict(X_test_vectorized)"
   ]
  },
  {
   "cell_type": "code",
   "execution_count": 15,
   "id": "4d584422-e9a6-4f76-a352-0b08eaafa6bf",
   "metadata": {
    "tags": [],
    "ExecuteTime": {
     "end_time": "2023-09-08T12:49:00.379891Z",
     "start_time": "2023-09-08T12:49:00.355141600Z"
    }
   },
   "outputs": [
    {
     "name": "stdout",
     "output_type": "stream",
     "text": [
      "Точность классификации на тестовой выборке: 90.91%\n"
     ]
    }
   ],
   "source": [
    "# Оценка точности\n",
    "accuracy = accuracy_score(y_test, y_pred)\n",
    "print(f'Точность классификации на тестовой выборке: {accuracy * 100:.2f}%')"
   ]
  },
  {
   "cell_type": "code",
   "execution_count": 16,
   "id": "66e546a8-b1a9-4d5b-8653-3fdab1de48b4",
   "metadata": {
    "ExecuteTime": {
     "end_time": "2023-09-08T12:49:01.089744700Z",
     "start_time": "2023-09-08T12:49:01.074093900Z"
    }
   },
   "outputs": [],
   "source": [
    "# Применение классификатора к данным для сравнения\n",
    "comparison_data_vectorized = vectorizer.transform(comparison_data)\n",
    "predicted_labels = classifier.predict(comparison_data_vectorized)"
   ]
  },
  {
   "cell_type": "code",
   "execution_count": 17,
   "id": "1c5b0218-d5eb-4411-92e6-f269d6190c39",
   "metadata": {
    "tags": [],
    "ExecuteTime": {
     "end_time": "2023-09-08T12:49:02.004196300Z",
     "start_time": "2023-09-08T12:49:01.988327200Z"
    }
   },
   "outputs": [],
   "source": [
    "# Создание DataFrame с результатами\n",
    "results_df = pd.DataFrame({'Product1': comparison_data, 'IsAnalog': predicted_labels})"
   ]
  },
  {
   "cell_type": "code",
   "execution_count": 18,
   "id": "66d7f5fb-2965-4558-b931-59dd6a79c152",
   "metadata": {
    "tags": [],
    "ExecuteTime": {
     "end_time": "2023-09-08T12:49:02.483117100Z",
     "start_time": "2023-09-08T12:49:02.474883Z"
    }
   },
   "outputs": [
    {
     "name": "stdout",
     "output_type": "stream",
     "text": [
      "вино red wine кр  п сл   россия  1l (не предсказано как аналог)\n",
      "виски william lawson s купажированныи алк 40   россия  0 7l (не предсказано как аналог)\n",
      "вода питьевая святои источник природная негаз  пэт  россия  1 5l (предсказано как аналог)\n",
      "квас 365 днеи фильтрованныи паст  пэт  россия  1 5l (не предсказано как аналог)\n",
      "кетчуп heinz томатныи дои пак  россия  320г (предсказано как аналог)\n",
      "кефир 365 днеи 2 5  пл без змж  россия  800г (предсказано как аналог)\n",
      "конфеты merci ассорти  германия  250г (предсказано как аналог)\n",
      "конфеты toffifee орешки в карамели  германия  125г (предсказано как аналог)\n",
      "напиток ароматизированныи martini bianco виноградосодерж  из виноград  сырья бел  сл   италия  1l (предсказано как аналог)\n",
      "напиток безалкогольныи adrenaline rush энергия энергетическии газ ж б  россия  0 449l (не предсказано как аналог)\n",
      "напиток безалкогольныи drive me оригинальныи энерг  газ  ж б  россия  0 449l (предсказано как аналог)\n",
      "напиток безалкогольныи добрыи кола с газ пэт  россия  1l (не предсказано как аналог)\n",
      "напиток безалкогольныи черноголовка кола сильногаз  пэт  россия  2l (предсказано как аналог)\n",
      "печенье прослоенное глазированное lotte choco pie чокопаи 12шт  россия  336г (предсказано как аналог)\n",
      "пиво светлое балтика классическое n3 паст  алк 4 8  ж б  россия  0 45l (не предсказано как аналог)\n",
      "пиво старыи мельник мягкое из бочонка светлое пастер  алк 4 3  ст   россия  0 45l (предсказано как аналог)\n",
      "сахар 365 днеи св тс2  россия  1000г (не предсказано как аналог)\n",
      "сметана простоквашино 15  без змж  россия  300г (предсказано как аналог)\n",
      "чипсы lay s сметана и лук  россия  225г (предсказано как аналог)\n",
      "чипсы картофельные lay s краб  россия  140г (предсказано как аналог)\n",
      "шоколадные батончики snickers super  россия  80 г (предсказано как аналог)\n",
      "яицо куриное азоvo с1  россия  10шт (предсказано как аналог)\n"
     ]
    }
   ],
   "source": [
    "# Вывод результатов\n",
    "for index, row in results_df.iterrows():\n",
    "    if row[\"IsAnalog\"] == 1:\n",
    "        print(f\"{row['Product1']} (предсказано как аналог)\")\n",
    "    else:\n",
    "        print(f\"{row['Product1']} (не предсказано как аналог)\")"
   ]
  },
  {
   "cell_type": "code",
   "execution_count": 19,
   "id": "3e99ae7a-922f-4227-9d64-be3901398e0f",
   "metadata": {
    "tags": [],
    "ExecuteTime": {
     "end_time": "2023-09-08T12:49:03.049867300Z",
     "start_time": "2023-09-08T12:49:03.008998500Z"
    }
   },
   "outputs": [],
   "source": [
    "results_df.to_csv('NB_results_df.csv', index=False)"
   ]
  },
  {
   "cell_type": "code",
   "execution_count": 20,
   "id": "7452f3f7-8df2-430f-8840-f32b8d83df9f",
   "metadata": {
    "tags": [],
    "ExecuteTime": {
     "end_time": "2023-09-08T12:49:03.805367700Z",
     "start_time": "2023-09-08T12:49:03.789734100Z"
    }
   },
   "outputs": [
    {
     "data": {
      "text/plain": "                                             Product1  IsAnalog\n0                 вино red wine кр  п сл   россия  1l         0\n1   виски william lawson s купажированныи алк 40  ...         0\n2   вода питьевая святои источник природная негаз ...         1\n3   квас 365 днеи фильтрованныи паст  пэт  россия ...         0\n4         кетчуп heinz томатныи дои пак  россия  320г         1\n5        кефир 365 днеи 2 5  пл без змж  россия  800г         1\n6               конфеты merci ассорти  германия  250г         1\n7   конфеты toffifee орешки в карамели  германия  ...         1\n8   напиток ароматизированныи martini bianco виног...         1\n9   напиток безалкогольныи adrenaline rush энергия...         0\n10  напиток безалкогольныи drive me оригинальныи э...         1\n11  напиток безалкогольныи добрыи кола с газ пэт  ...         0\n12  напиток безалкогольныи черноголовка кола сильн...         1\n13  печенье прослоенное глазированное lotte choco ...         1\n14  пиво светлое балтика классическое n3 паст  алк...         0\n15  пиво старыи мельник мягкое из бочонка светлое ...         1\n16               сахар 365 днеи св тс2  россия  1000г         0\n17    сметана простоквашино 15  без змж  россия  300г         1\n18            чипсы lay s сметана и лук  россия  225г         1\n19        чипсы картофельные lay s краб  россия  140г         1",
      "text/html": "<div>\n<style scoped>\n    .dataframe tbody tr th:only-of-type {\n        vertical-align: middle;\n    }\n\n    .dataframe tbody tr th {\n        vertical-align: top;\n    }\n\n    .dataframe thead th {\n        text-align: right;\n    }\n</style>\n<table border=\"1\" class=\"dataframe\">\n  <thead>\n    <tr style=\"text-align: right;\">\n      <th></th>\n      <th>Product1</th>\n      <th>IsAnalog</th>\n    </tr>\n  </thead>\n  <tbody>\n    <tr>\n      <th>0</th>\n      <td>вино red wine кр  п сл   россия  1l</td>\n      <td>0</td>\n    </tr>\n    <tr>\n      <th>1</th>\n      <td>виски william lawson s купажированныи алк 40  ...</td>\n      <td>0</td>\n    </tr>\n    <tr>\n      <th>2</th>\n      <td>вода питьевая святои источник природная негаз ...</td>\n      <td>1</td>\n    </tr>\n    <tr>\n      <th>3</th>\n      <td>квас 365 днеи фильтрованныи паст  пэт  россия ...</td>\n      <td>0</td>\n    </tr>\n    <tr>\n      <th>4</th>\n      <td>кетчуп heinz томатныи дои пак  россия  320г</td>\n      <td>1</td>\n    </tr>\n    <tr>\n      <th>5</th>\n      <td>кефир 365 днеи 2 5  пл без змж  россия  800г</td>\n      <td>1</td>\n    </tr>\n    <tr>\n      <th>6</th>\n      <td>конфеты merci ассорти  германия  250г</td>\n      <td>1</td>\n    </tr>\n    <tr>\n      <th>7</th>\n      <td>конфеты toffifee орешки в карамели  германия  ...</td>\n      <td>1</td>\n    </tr>\n    <tr>\n      <th>8</th>\n      <td>напиток ароматизированныи martini bianco виног...</td>\n      <td>1</td>\n    </tr>\n    <tr>\n      <th>9</th>\n      <td>напиток безалкогольныи adrenaline rush энергия...</td>\n      <td>0</td>\n    </tr>\n    <tr>\n      <th>10</th>\n      <td>напиток безалкогольныи drive me оригинальныи э...</td>\n      <td>1</td>\n    </tr>\n    <tr>\n      <th>11</th>\n      <td>напиток безалкогольныи добрыи кола с газ пэт  ...</td>\n      <td>0</td>\n    </tr>\n    <tr>\n      <th>12</th>\n      <td>напиток безалкогольныи черноголовка кола сильн...</td>\n      <td>1</td>\n    </tr>\n    <tr>\n      <th>13</th>\n      <td>печенье прослоенное глазированное lotte choco ...</td>\n      <td>1</td>\n    </tr>\n    <tr>\n      <th>14</th>\n      <td>пиво светлое балтика классическое n3 паст  алк...</td>\n      <td>0</td>\n    </tr>\n    <tr>\n      <th>15</th>\n      <td>пиво старыи мельник мягкое из бочонка светлое ...</td>\n      <td>1</td>\n    </tr>\n    <tr>\n      <th>16</th>\n      <td>сахар 365 днеи св тс2  россия  1000г</td>\n      <td>0</td>\n    </tr>\n    <tr>\n      <th>17</th>\n      <td>сметана простоквашино 15  без змж  россия  300г</td>\n      <td>1</td>\n    </tr>\n    <tr>\n      <th>18</th>\n      <td>чипсы lay s сметана и лук  россия  225г</td>\n      <td>1</td>\n    </tr>\n    <tr>\n      <th>19</th>\n      <td>чипсы картофельные lay s краб  россия  140г</td>\n      <td>1</td>\n    </tr>\n  </tbody>\n</table>\n</div>"
     },
     "execution_count": 20,
     "metadata": {},
     "output_type": "execute_result"
    }
   ],
   "source": [
    "results_df.head(20)"
   ]
  },
  {
   "cell_type": "code",
   "execution_count": 22,
   "id": "456a377d-8ea5-4bd4-82f8-e246b4877e16",
   "metadata": {
    "ExecuteTime": {
     "end_time": "2023-09-08T14:39:01.975925Z",
     "start_time": "2023-09-08T14:39:01.944743200Z"
    }
   },
   "outputs": [],
   "source": [
    "import pickle\n",
    "\n",
    "# Сохранение модели и векторизатора в файлы 'model.pkl' и 'vectorizer.pkl'\n",
    "with open('tgbot/models/model.pkl', 'wb') as model_file:\n",
    "    pickle.dump(classifier, model_file)\n",
    "\n",
    "with open('tgbot/models/vectorizer.pkl', 'wb') as vectorizer_file:\n",
    "    pickle.dump(vectorizer, vectorizer_file)"
   ]
  },
  {
   "cell_type": "code",
   "execution_count": null,
   "outputs": [],
   "source": [],
   "metadata": {
    "collapsed": false
   }
  }
 ],
 "metadata": {
  "kernelspec": {
   "display_name": "Python 3 (ipykernel)",
   "language": "python",
   "name": "python3"
  },
  "language_info": {
   "codemirror_mode": {
    "name": "ipython",
    "version": 3
   },
   "file_extension": ".py",
   "mimetype": "text/x-python",
   "name": "python",
   "nbconvert_exporter": "python",
   "pygments_lexer": "ipython3",
   "version": "3.9.17"
  }
 },
 "nbformat": 4,
 "nbformat_minor": 5
}
